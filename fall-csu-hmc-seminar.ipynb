{
 "metadata": {
  "celltoolbar": "Slideshow",
  "name": "",
  "signature": "sha256:38a265311da5b6763dadea6acab18ecbd74205055338fd8161e49e73577fdf75"
 },
 "nbformat": 3,
 "nbformat_minor": 0,
 "worksheets": [
  {
   "cells": [
    {
     "cell_type": "markdown",
     "metadata": {
      "slideshow": {
       "slide_type": "slide"
      }
     },
     "source": [
      "#Reproducible Scientific Computing with Open Software and Open Data\n",
      "\n",
      "> If I have seen further it is by standing on the shoulders of giants.\n",
      ">\n",
      "> -- <cite>Isaac Newton</cite>\n",
      "\n",
      "Jason K. Moore  \n",
      "September 17, 2014  \n",
      "Human Motion and Control Seminar  \n",
      "Cleveland State University  "
     ]
    },
    {
     "cell_type": "markdown",
     "metadata": {
      "slideshow": {
       "slide_type": "slide"
      }
     },
     "source": [
      "> An article about computational science in a scientific publication is not\n",
      "> the scholarship itself, it is merely advertising of the scholarship. The\n",
      "> actual scholarship is the complete software development environment and\n",
      "> the complete set of instructions which generated the figures.\n",
      ">\n",
      "> -- Jonathan Buckheit and David Donoho, paraphrasing Jon Claerbout 1995"
     ]
    },
    {
     "cell_type": "markdown",
     "metadata": {
      "slideshow": {
       "slide_type": "slide"
      }
     },
     "source": [
      "> While currently there is unilateral emphasis on 'first' discoveries,\n",
      "> there should be as much emphasis on replication of discoveries.\n",
      ">\n",
      "> -- <cite>John P. A. Ioannidis</cite>"
     ]
    },
    {
     "cell_type": "markdown",
     "metadata": {
      "slideshow": {
       "slide_type": "slide"
      }
     },
     "source": [
      "# Image a Future where...\n"
     ]
    },
    {
     "cell_type": "markdown",
     "metadata": {
      "slideshow": {
       "slide_type": "subslide"
      }
     },
     "source": [
      "papers are not static views of the end state of a research conclusion, but an interactive document where the reader can become the analyst."
     ]
    },
    {
     "cell_type": "markdown",
     "metadata": {
      "slideshow": {
       "slide_type": "subslide"
      }
     },
     "source": [
      "selecting any figure in a scientific paper brings about interactivy."
     ]
    },
    {
     "cell_type": "markdown",
     "metadata": {
      "slideshow": {
       "slide_type": "subslide"
      }
     },
     "source": [
      "extracting a working software environment and data from every article, report, and book is as simple as clicking a hyperlink."
     ]
    },
    {
     "cell_type": "markdown",
     "metadata": {
      "slideshow": {
       "slide_type": "subslide"
      }
     },
     "source": [
      "all data from a discipline is accessible in a public data base for perpertuity."
     ]
    },
    {
     "cell_type": "markdown",
     "metadata": {
      "slideshow": {
       "slide_type": "slide"
      }
     },
     "source": [
      "# I want future like this:\n",
      "\n",
      "I need some human motion walking data. I know tons of people have collected data on human motion. I've seen tons of papers and there are gait labs all over the world now.\n",
      "\n",
      "Oh! Look! There is the website called http://humanmotiondata.org. It looks like I just have to type in this query...\n",
      "\n",
      "`where (treadmill is True) AND (20 < age < 40) AND (1.0 < speed < 2.0) AND (num_markers > 30) AND (force_plate is dual)`\n",
      "\n",
      "Querying results...please wait.  \n",
      "Done.  \n",
      "You have found 30,735 trials of human motion data, download C3D data at this link http://humanmotiondata.org/your-awesome-data-set.zip"
     ]
    },
    {
     "cell_type": "markdown",
     "metadata": {
      "slideshow": {
       "slide_type": "slide"
      }
     },
     "source": [
      "# Digital Things Can Be Instantly Copied\n",
      "\n",
      "Software and Data have a Magic Property:\n",
      "\n",
      "Copying is extrermely low cost and in many cases instantaneous.\n",
      "\n",
      "Currently data is horded by the collector because they the only thing of value are the results. Academia does not value good data collectors the way it does good analysts."
     ]
    },
    {
     "cell_type": "markdown",
     "metadata": {
      "slideshow": {
       "slide_type": "slide"
      }
     },
     "source": [
      "- How much time do you spend developing code, simulation, etc that run\n",
      "  computations for your results?\n",
      "- How much time do you spend collecting data?\n",
      "- Shouldn't you let other scientists \"stand on your shoulders\"? \n",
      "- Why should they have to reinvent the wheel?\n"
     ]
    },
    {
     "cell_type": "markdown",
     "metadata": {
      "slideshow": {
       "slide_type": "slide"
      }
     },
     "source": [
      "# Facts\n"
     ]
    },
    {
     "cell_type": "markdown",
     "metadata": {
      "slideshow": {
       "slide_type": "subslide"
      }
     },
     "source": [
      "- Most scientists think of programming as a tax they have to pay in order to do science."
     ]
    },
    {
     "cell_type": "markdown",
     "metadata": {
      "slideshow": {
       "slide_type": "subslide"
      }
     },
     "source": [
      "- Scientists do not care about reproducibility, as it is a perceived hurdle to productivity."
     ]
    },
    {
     "cell_type": "markdown",
     "metadata": {
      "slideshow": {
       "slide_type": "fragment"
      }
     },
     "source": [
      "> Respondents reported that the single biggest barrier to sharing code\n",
      "> and data was the time it takes to clean up and document the work to\n",
      "> prepare it for release and reuse (56 percent of respondents cited this\n",
      "> reason for not sharing data and 78 percent cited this reason for not sharing code.).\n",
      ">\n",
      "> --- http://web.stanford.edu/~vcs/papers/CiSE2012-LMS.pdf\n"
     ]
    },
    {
     "cell_type": "markdown",
     "metadata": {
      "slideshow": {
       "slide_type": "slide"
      }
     },
     "source": [
      "# Is science actually reproducible?\n",
      "\n",
      "[ref](http://www.jove.com/blog/2012/05/03/studies-show-only-10-of-published-science-articles-are-reproducible-what-is-happening)"
     ]
    },
    {
     "cell_type": "markdown",
     "metadata": {
      "slideshow": {
       "slide_type": "subslide"
      }
     },
     "source": [
      "The biotech company Amgen had a team of about 100 scientists trying to reproduce the findings\n",
      "of 53 \u201clandmark\u201d articles in cancer research published by reputable labs in top journals.\n",
      "  \n",
      "Only 6 of the 53 studies were reproduced (about 10%).\n",
      "\n",
      "http://www.reuters.com/article/2012/03/28/us-science-cancer-idUSBRE82R12P20120328"
     ]
    },
    {
     "cell_type": "markdown",
     "metadata": {
      "slideshow": {
       "slide_type": "subslide"
      }
     },
     "source": [
      "Scientists at the pharmaceutical company, Bayer, examined 67 target-validation projects in oncology, women\u2019s health, and cardiovascular medicine.\n",
      "\n",
      "Published results were reproduced in only 14 out of 67 projects (about 21%).\n",
      "\n",
      "http://blogs.nature.com/news/2011/09/reliability_of_new_drug_target.html"
     ]
    },
    {
     "cell_type": "markdown",
     "metadata": {
      "slideshow": {
       "slide_type": "subslide"
      }
     },
     "source": [
      "The project, PsychFileDrawer, dedicated to replication of published articles in experimental psychology, shows a\n",
      "replication rate 3 out of 9 (33%) so far.\n",
      "\n",
      "http://www.psychfiledrawer.org/view_article_list.php"
     ]
    },
    {
     "cell_type": "markdown",
     "metadata": {
      "slideshow": {
       "slide_type": "subslide"
      }
     },
     "source": [
      "# 2010 Arsenic Based Life Controversy\n",
      "\n",
      ">For some years now, scientists have gotten increasingly worried about replication failures. In one recent example, NASA made a headline-grabbing announcement in 2010 that scientists had found bacteria that could live on arsenic\u2014a finding that would require biology textbooks to be rewritten. At the time, many experts condemned the paper as a poor piece of science that shouldn\u2019t have been published. This July, two teams of scientists reported that they couldn\u2019t replicate the results.\n",
      "\n",
      "http://www.slate.com/articles/health_and_science/science/2012/08/reproducing_scientific_studies_a_good_housekeeping_seal_of_approval_.html\n",
      "\n",
      "http://en.wikipedia.org/wiki/Felisa_Wolfe-Simon#Controversy\n",
      "\n",
      "http://retractionwatch.com/"
     ]
    },
    {
     "cell_type": "markdown",
     "metadata": {
      "slideshow": {
       "slide_type": "slide"
      }
     },
     "source": [
      "# Have you ever desired to have the data that produced a figure in a paper?\n",
      "\n",
      "How about so much that you write software to extract the data from the\n",
      "\n",
      "http://arohatgi.info/WebPlotDigitizer/"
     ]
    },
    {
     "cell_type": "code",
     "collapsed": false,
     "input": [
      "from IPython.display import YouTubeVideo\n",
      "\n",
      "YouTubeVideo('G8KPVVFrb6U')"
     ],
     "language": "python",
     "metadata": {
      "slideshow": {
       "slide_type": "fragment"
      }
     },
     "outputs": [
      {
       "html": [
        "\n",
        "        <iframe\n",
        "            width=\"400\"\n",
        "            height=300\"\n",
        "            src=\"https://www.youtube.com/embed/G8KPVVFrb6U\"\n",
        "            frameborder=\"0\"\n",
        "            allowfullscreen\n",
        "        ></iframe>\n",
        "        "
       ],
       "metadata": {},
       "output_type": "pyout",
       "prompt_number": 1,
       "text": [
        "<IPython.lib.display.YouTubeVideo at 0x7f3b3cedefd0>"
       ]
      }
     ],
     "prompt_number": 1
    },
    {
     "cell_type": "markdown",
     "metadata": {
      "slideshow": {
       "slide_type": "slide"
      }
     },
     "source": [
      "# Policy"
     ]
    },
    {
     "cell_type": "markdown",
     "metadata": {
      "slideshow": {
       "slide_type": "subslide"
      }
     },
     "source": [
      "# The Whitehouse\n",
      "\n",
      "The Whitehouse shared their Open Access Mandate this past year:\n",
      "\n",
      "> That\u2019s why, in a policy memorandum released today, OSTP Director John Holdren has \n",
      "> directed Federal agencies with more than $100M in R&D expenditures to develop plans \n",
      "> to make the published results of federally funded research freely available to the \n",
      "> public within one year of publication and **requiring researchers to better account for \n",
      "> and manage the digital data resulting from federally funded scientific research**."
     ]
    },
    {
     "cell_type": "markdown",
     "metadata": {
      "slideshow": {
       "slide_type": "subslide"
      }
     },
     "source": [
      "# The NSF\n",
      "\n",
      "In 2011, the National Science Foundation started requiring a \"Data Management Plan\" with every grant submission.\n",
      "\n",
      "The requirements were purposely left vague for each discipline. Over time the requirements for disciplines will emerge."
     ]
    },
    {
     "cell_type": "markdown",
     "metadata": {
      "slideshow": {
       "slide_type": "subslide"
      }
     },
     "source": [
      "# Journals\n",
      "\n",
      "are making policies, such as the Data Policy from PLoS One:\n",
      "\n",
      "> Publication is conditional upon the agreement of the authors to make\n",
      "> freely available any materials and information described in their \n",
      "> publication that may be reasonably requested by others.\n",
      ">\n",
      "> --- http://www.plosone.org/static/policies.action#sharing"
     ]
    },
    {
     "cell_type": "markdown",
     "metadata": {
      "slideshow": {
       "slide_type": "subslide"
      }
     },
     "source": [
      "Science and the Proceedings of the National Academy of Sciences (PNAS) have made data and code disclosure\n",
      "a requirement for publication."
     ]
    },
    {
     "cell_type": "markdown",
     "metadata": {
      "slideshow": {
       "slide_type": "subslide"
      }
     },
     "source": [
      "> The journal Biostatistics, for which I am an associate editor, has implemented\n",
      "> a policy for encouraging authors of accepted papers to make their work\n",
      "> reproducible by others.\n",
      ">\n",
      "> --- Roger D. Peng, Reproducible Research in Computational Science, Science 2\n",
      "> December 2011, Vol. 334 no. 6060 pp. 1226-1227, DOI: 10.1126/science.1213847"
     ]
    },
    {
     "cell_type": "markdown",
     "metadata": {
      "slideshow": {
       "slide_type": "slide"
      }
     },
     "source": [
      "> The principal goal of these discussions and workshops is to develop publication\n",
      "> standards akin to both the proof in mathematics and the deductive sciences, and\n",
      "> the detailed descriptive protocols in the empirical sciences (the \u201cmethods\u201d section\n",
      "> of a paper describing the mechanics of the controlled experiment and hypothesis test).\n",
      "> Computational science is only a few decades old and must develop similar standards, \n",
      "> so that other research ers in the field can independently verify published results.\n",
      ">\n",
      "> --- http://web.stanford.edu/~vcs/papers/CiSE2012-LMS.pdf\n"
     ]
    },
    {
     "cell_type": "markdown",
     "metadata": {
      "slideshow": {
       "slide_type": "slide"
      }
     },
     "source": [
      "# The science code manifesto"
     ]
    },
    {
     "cell_type": "code",
     "collapsed": false,
     "input": [
      "from IPython.display import HTML\n",
      "\n",
      "HTML('http://sciencecodemanifesto.org/')"
     ],
     "language": "python",
     "metadata": {
      "slideshow": {
       "slide_type": "fragment"
      }
     },
     "outputs": [
      {
       "html": [
        "<!DOCTYPE html PUBLIC \"-//W3C//DTD XHTML 1.0 Transitional//EN\" \"http://www.w3.org/TR/xhtml1/DTD/xhtml1-transitional.dtd\">\r\n",
        "<html xmlns=\"http://www.w3.org/1999/xhtml\" lang=\"en-US\">\r\n",
        "\r\n",
        "\t<head profile=\"http://gmpg.org/xfn/11\">\r\n",
        "\t<meta http-equiv=\"Content-Type\" content=\"text/html; charset=UTF-8\" />\r\n",
        "\r\n",
        "\t<title>Science Code Manifesto  </title>\r\n",
        "\r\n",
        "\t<link rel=\"stylesheet\" href=\"http://sciencecodemanifesto.org/wp-content/themes/sciencecodemanifesto/reset.css\" type=\"text/css\" media=\"screen\" />\r\n",
        "\t<link rel=\"stylesheet\" href=\"http://sciencecodemanifesto.org/wp-content/themes/sciencecodemanifesto/style.css\" type=\"text/css\" media=\"screen\" />\r\n",
        "\t<!--[if IE]><link rel=\"stylesheet\" href=\"http://sciencecodemanifesto.org/wp-content/themes/sciencecodemanifesto/ie.css\" type=\"text/css\" media=\"screen\" /><![endif]-->\r\n",
        "\t<link rel=\"alternate\" type=\"application/rss+xml\" title=\"Science Code Manifesto RSS Feed\" href=\"http://sciencecodemanifesto.org/feed\" />\r\n",
        "\t<link rel=\"pingback\" href=\"http://sciencecodemanifesto.org/xmlrpc.php\" />\r\n",
        "\r\n",
        "\t<meta name='robots' content='noindex,nofollow' />\n",
        "<link rel=\"alternate\" type=\"application/rss+xml\" title=\"Science Code Manifesto &raquo; Manifesto Comments Feed\" href=\"http://sciencecodemanifesto.org/home/feed\" />\n",
        "<link rel=\"EditURI\" type=\"application/rsd+xml\" title=\"RSD\" href=\"http://sciencecodemanifesto.org/xmlrpc.php?rsd\" />\n",
        "<link rel=\"wlwmanifest\" type=\"application/wlwmanifest+xml\" href=\"http://sciencecodemanifesto.org/wp-includes/wlwmanifest.xml\" /> \n",
        "<link rel='next' title='Blog' href='http://sciencecodemanifesto.org/blog' />\n",
        "<meta name=\"generator\" content=\"WordPress 3.5.1\" />\n",
        "<link rel='canonical' href='http://sciencecodemanifesto.org/' />\n",
        "\t<script type=\"text/javascript\" src=\"http://use.typekit.com/jpv7ibl.js\"></script>\r\n",
        "\t<script type=\"text/javascript\">try{Typekit.load();}catch(e){}</script>\r\n",
        "</head>\r\n",
        "\r\n",
        "<body class=\"home page page-id-14 page-template-default\">\r\n",
        "\t<div id=\"wrapper\">\r\n",
        "\r\n",
        "\t\t<div id=\"header\">\r\n",
        "\t\t\t<div id=\"logo\">\r\n",
        "\t\t\t<h1><a href=\"http://sciencecodemanifesto.org\">Science Code Manifesto</a></h1>\r\n",
        "\t\t\t<h2></h2>\r\n",
        "\t\t\t</div>\r\n",
        "\t\t\t<div id=\"nav\">\r\n",
        "\t\t\t\t\t\t\t<ul>\r\n",
        "\t\t\t\t\t<li class=\"page_item page-item-14 current_page_item\"><a href=\"http://sciencecodemanifesto.org/\">Manifesto</a></li>\n",
        "<li class=\"page_item page-item-28\"><a href=\"http://sciencecodemanifesto.org/discussion\">Discussion</a></li>\n",
        "<li class=\"page_item page-item-24\"><a href=\"http://sciencecodemanifesto.org/endorse\">Endorse</a></li>\n",
        "<li class=\"page_item page-item-78\"><a href=\"http://sciencecodemanifesto.org/resources\">Resources</a></li>\n",
        "<li class=\"page_item page-item-110\"><a href=\"http://sciencecodemanifesto.org/about\">About</a></li>\n",
        "\t\t\t\t  \t\t\t\t</ul>\r\n",
        "\t\t\t\t\t\t</div>\r\n",
        "\t\t</div>\r\n",
        "\n",
        "\t<div id=\"content\">\n",
        "\t\n",
        "\t\t\t\t\n",
        "\t\t<div class=\"post\">\n",
        "\t\t\t<!--uncomment for header tags--  <h1><a href=\"http://sciencecodemanifesto.org/\">Manifesto</a></h1>\n",
        "\t\t\t<small><b>Posted:</b> August 18th, 2011 | <b>Author:</b> <a href=\"http://sciencecodemanifesto.org\" title=\"Posts by admin\" rel=\"author\">admin</a> | <b>Filed under:</b>   | <a href=\"http://sciencecodemanifesto.org/#respond\" title=\"Comment on Manifesto\">No Comments &#187;</a></small>   -->\n",
        "\t\t\t<p>Software is a cornerstone of science. Without software, twenty-first century science would be impossible. Without better software, science cannot progress.</p>\n",
        "<p>But the culture and institutions of science have not yet adjusted to this reality.  We need to reform them to address this challenge, by adopting these five principles:</p>\n",
        "<dl>\n",
        "<dt>Code</dt>\n",
        "<dd>All source code written specifically to process data for a published paper must be available to the reviewers and readers of the paper.</dd>\n",
        "<dt>Copyright</dt>\n",
        "<dd>The copyright ownership and license of any released source code must be clearly stated.</dd>\n",
        "<dt>Citation</dt>\n",
        "<dd>Researchers who use or adapt science source code in their research must credit the code\u2019s creators in resulting publications.</dd>\n",
        "<dt>Credit</dt>\n",
        "<dd>Software contributions must be included in systems of scientific assessment, credit, and recognition.</dd>\n",
        "<dt>Curation</dt>\n",
        "<dd>Source code must remain available, linked to related materials, for the useful lifetime of the publication.</dd>\n",
        "</dl>\n",
        "<section id=\"signatories\">\n",
        "<h3>Founding Signatories</h3>\n",
        "<table cellspacing=\"0\" cellpadding=\"0\">\n",
        "<tr>\n",
        "<td>\n",
        "    <span class=\"name\">Nick Barnes</span><a href=\"http://climatecode.org\">Climate Code Foundation</a>\n",
        "  </td>\n",
        "<td>\n",
        "    <span class=\"name\">David Jones</span><a href=\"http://climatecode.org\">Climate Code Foundation</a>\n",
        "  </td>\n",
        "</tr>\n",
        "<tr>\n",
        "<td>\n",
        "    <span class=\"name\">Peter Norvig</span><a href=\"http://research.google.com/pubs/author205.html\">Director of Research, Google Inc</a>\n",
        "  </td>\n",
        "<td>\n",
        "    <span class=\"name\">Cameron Neylon</span><a href=\"http://cameronneylon.net/\">Science in the Open</a>\n",
        "  </td>\n",
        "</tr>\n",
        "<tr>\n",
        "<td>\n",
        "    <span class=\"name\">Rufus Pollock</span><a href=\"http://okfn.org\">Open Knowledge Foundation</a>\n",
        "  </td>\n",
        "<td>\n",
        "    <span class=\"name\">Joseph Jackson</span><a href=\"http://opensciencesummit.com\">Open Science Alliance</a>\n",
        "  </td>\n",
        "</tr>\n",
        "<tr>\n",
        "<td>\n",
        "    <span class=\"name\">Victoria Stodden</span><a href=\"http://stodden.net/\">Columbia University</a>\n",
        "  </td>\n",
        "<td>\n",
        "    <span class=\"name\">Peter Suber</span><a href=\"http://www.earlham.edu/~peters/hometoc.htm\">Berkman Fellow, Harvard University</a>\n",
        "  </td>\n",
        "</tr>\n",
        "</table>\n",
        "</section>\n",
        "<p><a href=\"/endorse/\">Endorse the Manifesto</a>, or read our <a href=\"/discussion/\">discussion document</a>.</p>\n",
        "\t\t</div>\n",
        "\t\t\n",
        "\t\t\n",
        "\t\t<div class=\"navigation\">\n",
        "\t\t\t<div class=\"alignleft\"></div>\n",
        "\t\t\t<div class=\"alignright\"></div>\n",
        "\t\t</div>\n",
        "\n",
        "\t\n",
        "\t</div>\n",
        "\t\n",
        "\t<div id=\"sidebar\">\r\n",
        "\t<div class=\"block text-3 widget_text\"><h3>Further Reading</h3>\t\t\t<div class=\"textwidget\"><ul>\r\n",
        "<li><a href=\"http://climatecode.org/\">Climate Code Foundation</a></li>\r\n",
        "<li><a href=\"http://pantonprinciples.org/\">Panton Principles</a></li>\r\n",
        "<li><a href=\"http://opendefinition.org/\">Open Knowledge Definition</a></li>\r\n",
        "</ul></div>\n",
        "\t\t</div>\t</div>\n",
        "\r\n",
        "\t<div id=\"footer\">\t\r\n",
        "\t  \t<p>&copy; Copyright 2013 <a href=\"http://climatecode.org\">Climate Code Foundation</a>\r\n",
        "\t| <a href=\"/theme\">Theme</a> | <a rel=\"license\" href=\"http://creativecommons.org/licenses/by/3.0/\"><img alt=\"Creative Commons Licence\" style=\"border-width:0\" src=\"http://i.creativecommons.org/l/by/3.0/80x15.png\" /></a></p>\r\n",
        "\t    <p></p>\r\n",
        "\t</div>\r\n",
        "\r\n",
        "</div>\r\n",
        "\r\n",
        "<!-- Can put web stats code here -->\r\n",
        "<script type=\"text/javascript\">\r\n",
        "  var _gauges = _gauges || [];\r\n",
        "  (function() {\r\n",
        "    var t   = document.createElement('script');\r\n",
        "    t.type  = 'text/javascript';\r\n",
        "    t.async = true;\r\n",
        "    t.id    = 'gauges-tracker';\r\n",
        "    t.setAttribute('data-site-id', '4e9744d5613f5d7748000008');\r\n",
        "    t.src = '//secure.gaug.es/track.js';\r\n",
        "    var s = document.getElementsByTagName('script')[0];\r\n",
        "    s.parentNode.insertBefore(t, s);\r\n",
        "  })();\r\n",
        "</script>\r\n",
        "</body>\r\n",
        "\r\n",
        "</html>\n",
        "<!-- Dynamic page generated in 3.073 seconds. -->\n",
        "<!-- Cached page generated by WP-Super-Cache on 2013-03-25 01:21:40 -->\n",
        "\n",
        "<!-- super cache -->"
       ],
       "metadata": {},
       "output_type": "pyout",
       "prompt_number": 3,
       "text": [
        "<IPython.core.display.HTML at 0x7f3b3d757d90>"
       ]
      }
     ],
     "prompt_number": 3
    },
    {
     "cell_type": "markdown",
     "metadata": {
      "slideshow": {
       "slide_type": "slide"
      }
     },
     "source": [
      "# Ten Simple Rules for Reproducible Computational Research\n",
      "\n",
      "http://dx.doi.org/10.1371/journal.pcbi.1003285"
     ]
    },
    {
     "cell_type": "markdown",
     "metadata": {
      "slideshow": {
       "slide_type": "subslide"
      }
     },
     "source": [
      "## Rule 1\n",
      "\n",
      "For Every Result, Keep Track of How It Was Produced"
     ]
    },
    {
     "cell_type": "markdown",
     "metadata": {
      "slideshow": {
       "slide_type": "subslide"
      }
     },
     "source": [
      "## Rule 2\n",
      "\n",
      "Avoid Manual Data Manipulation Steps\n",
      "\n",
      "See \"Spreadsheet Errors Cost Billions\": http://www.cnbc.com/id/100923538\n",
      "\n",
      "- 88 percent of all spreadsheets have errors in them\n",
      "- 50 percent of spreadsheets used by large companies have material defects\n",
      "\n",
      "> Interactive programs should always be able to save their state so they can\n",
      "> restart. Otherwise, dependence on an interactive program can be a form of\n",
      "> slavery (nonreproducible research).\n",
      ">\n",
      "> --- http://sepwww.stanford.edu/sep/jon/reproducible.html\n"
     ]
    },
    {
     "cell_type": "markdown",
     "metadata": {
      "slideshow": {
       "slide_type": "subslide"
      }
     },
     "source": [
      "## Rule 3\n",
      "\n",
      "Archive the Exact Versions of All External Programs Used"
     ]
    },
    {
     "cell_type": "markdown",
     "metadata": {
      "slideshow": {
       "slide_type": "subslide"
      }
     },
     "source": [
      "## Rule 4\n",
      "\n",
      "Version Control All Custom Scripts"
     ]
    },
    {
     "cell_type": "markdown",
     "metadata": {
      "slideshow": {
       "slide_type": "subslide"
      }
     },
     "source": [
      "## Rule 5\n",
      "\n",
      "Record All Intermediate Results, When Possible in Standardized Formats"
     ]
    },
    {
     "cell_type": "markdown",
     "metadata": {
      "slideshow": {
       "slide_type": "subslide"
      }
     },
     "source": [
      "## Rule 6\n",
      "\n",
      "For Analyses That Include Randomness, Note Underlying Random Seeds"
     ]
    },
    {
     "cell_type": "markdown",
     "metadata": {
      "slideshow": {
       "slide_type": "subslide"
      }
     },
     "source": [
      "## Rule 7\n",
      "\n",
      "Always Store Raw Data behind Plots"
     ]
    },
    {
     "cell_type": "markdown",
     "metadata": {
      "slideshow": {
       "slide_type": "subslide"
      }
     },
     "source": [
      "## Rule 8\n",
      "\n",
      "Generate Hierarchical Analysis Output, Allowing Layers of Increasing\n",
      "Detail to Be Inspected"
     ]
    },
    {
     "cell_type": "markdown",
     "metadata": {
      "slideshow": {
       "slide_type": "subslide"
      }
     },
     "source": [
      "## Rule 9\n",
      "\n",
      "Connect Textual Statements to Underlying Results"
     ]
    },
    {
     "cell_type": "markdown",
     "metadata": {
      "slideshow": {
       "slide_type": "subslide"
      }
     },
     "source": [
      "## Rule 10\n",
      "\n",
      "Provide Public Access to Scripts, Runs, and Results"
     ]
    },
    {
     "cell_type": "markdown",
     "metadata": {
      "slideshow": {
       "slide_type": "slide"
      }
     },
     "source": [
      "# Two important pieces of computation reproduciblity\n",
      "\n",
      "- Source code must be shared just like the \"methods\" section in a bench scientists' paper. Open source software ensures that others\n",
      "  can read your code (and hopefully run it too!)\n",
      "- Data must be shared with adequate metadata and ideally be machine readable.\n",
      "\n",
      "These two basic steps will allow other to truly build upon your work."
     ]
    },
    {
     "cell_type": "markdown",
     "metadata": {
      "slideshow": {
       "slide_type": "slide"
      }
     },
     "source": [
      "# Open Source Software For Science"
     ]
    },
    {
     "cell_type": "markdown",
     "metadata": {
      "slideshow": {
       "slide_type": "slide"
      }
     },
     "source": [
      "# Python and the SciPy stack"
     ]
    },
    {
     "cell_type": "markdown",
     "metadata": {
      "slideshow": {
       "slide_type": "subslide"
      }
     },
     "source": [
      "# NumPy\n",
      "\n",
      "efficient array manipulation, i.e. vectorized operations\n"
     ]
    },
    {
     "cell_type": "code",
     "collapsed": false,
     "input": [
      "from numpy.random import random\n",
      "from numpy.core.umath_tests import matrix_multiply\n",
      "\n",
      "left_matrices = random((1e6, 3, 4))\n",
      "right_matrices = random((1e6, 4, 3))\n",
      "\n",
      "%timeit products = matrix_multiply(left_matrices, right_matrices)"
     ],
     "language": "python",
     "metadata": {
      "slideshow": {
       "slide_type": "fragment"
      }
     },
     "outputs": [
      {
       "output_type": "stream",
       "stream": "stdout",
       "text": [
        "1 loops, best of 3: 149 ms per loop\n"
       ]
      }
     ],
     "prompt_number": 81
    },
    {
     "cell_type": "markdown",
     "metadata": {
      "slideshow": {
       "slide_type": "subslide"
      }
     },
     "source": [
      "# SciPy\n",
      "\n",
      "common scientific alogrithms\n",
      "interpolation, integration, signal processing, linear algebra, optimization, sparse matrices, etc\n"
     ]
    },
    {
     "cell_type": "code",
     "collapsed": false,
     "input": [
      "from numpy import array\n",
      "from scipy.optimize import minimize\n",
      "\n",
      "def rosen(x):\n",
      "    \"\"\"The Rosenbrock function\"\"\"\n",
      "    return sum(100.0 * (x[1:] - x[:-1]**2.0)**2.0 + (1 - x[:-1])**2.0)\n",
      "\n",
      "x0 = array([1.3, 0.7, 0.8, 1.9, 1.2])\n",
      "res = minimize(rosen, x0, method='nelder-mead',\n",
      "               options={'xtol': 1e-8, 'disp': True})\n",
      "\n",
      "print(res.x)"
     ],
     "language": "python",
     "metadata": {
      "slideshow": {
       "slide_type": "fragment"
      }
     },
     "outputs": [
      {
       "output_type": "stream",
       "stream": "stdout",
       "text": [
        "Optimization terminated successfully.\n",
        "         Current function value: 0.000000\n",
        "         Iterations: 339\n",
        "         Function evaluations: 571\n",
        "[ 1.  1.  1.  1.  1.]\n"
       ]
      }
     ],
     "prompt_number": 94
    },
    {
     "cell_type": "markdown",
     "metadata": {
      "slideshow": {
       "slide_type": "subslide"
      }
     },
     "source": [
      "# SymPy\n",
      "\n",
      "Symbolic mathematics"
     ]
    },
    {
     "cell_type": "code",
     "collapsed": false,
     "input": [
      "from sympy import symbols, solve, init_printing, integrate\n",
      "\n",
      "init_printing()\n",
      "\n",
      "a, b, c, x = symbols('a, b, c, x')\n",
      "\n",
      "f = a * x**2 + b * x + c\n",
      "\n",
      "solve(f, x)"
     ],
     "language": "python",
     "metadata": {
      "slideshow": {
       "slide_type": "fragment"
      }
     },
     "outputs": [
      {
       "latex": [
        "$$\\begin{bmatrix}\\frac{1}{2 a} \\left(- b + \\sqrt{- 4 a c + b^{2}}\\right), & - \\frac{1}{2 a} \\left(b + \\sqrt{- 4 a c + b^{2}}\\right)\\end{bmatrix}$$"
       ],
       "metadata": {},
       "output_type": "pyout",
       "png": "[encoded data removed]",
       "prompt_number": 86,
       "text": [
        "\u23a1        _____________   \u239b       _____________\u239e \u23a4\n",
        "\u23a2       \u2571           2    \u239c      \u2571           2 \u239f \u23a5\n",
        "\u23a2-b + \u2572\u2571  -4\u22c5a\u22c5c + b    -\u239db + \u2572\u2571  -4\u22c5a\u22c5c + b  \u23a0 \u23a5\n",
        "\u23a2\u2500\u2500\u2500\u2500\u2500\u2500\u2500\u2500\u2500\u2500\u2500\u2500\u2500\u2500\u2500\u2500\u2500\u2500\u2500\u2500\u2500, \u2500\u2500\u2500\u2500\u2500\u2500\u2500\u2500\u2500\u2500\u2500\u2500\u2500\u2500\u2500\u2500\u2500\u2500\u2500\u2500\u2500\u2500\u2500\u2500\u23a5\n",
        "\u23a3         2\u22c5a                     2\u22c5a           \u23a6"
       ]
      }
     ],
     "prompt_number": 86
    },
    {
     "cell_type": "code",
     "collapsed": false,
     "input": [
      "integrate(f, x)"
     ],
     "language": "python",
     "metadata": {
      "slideshow": {
       "slide_type": "fragment"
      }
     },
     "outputs": [
      {
       "latex": [
        "$$\\frac{a x^{3}}{3} + \\frac{b x^{2}}{2} + c x$$"
       ],
       "metadata": {},
       "output_type": "pyout",
       "png": "[encoded data removed]",
       "prompt_number": 87,
       "text": [
        "   3      2      \n",
        "a\u22c5x    b\u22c5x       \n",
        "\u2500\u2500\u2500\u2500 + \u2500\u2500\u2500\u2500 + c\u22c5x\n",
        " 3      2        "
       ]
      }
     ],
     "prompt_number": 87
    },
    {
     "cell_type": "markdown",
     "metadata": {
      "slideshow": {
       "slide_type": "subslide"
      }
     },
     "source": [
      "# Pandas\n",
      "\n",
      "Data munging"
     ]
    },
    {
     "cell_type": "code",
     "collapsed": false,
     "input": [
      "from pandas import date_range, DataFrame\n",
      "\n",
      "dates = date_range('20130101',periods=6)\n",
      "\n",
      "df = DataFrame(np.random.randn(6,4), index=dates, columns=list('ABCD'))\n",
      "\n",
      "df.describe()"
     ],
     "language": "python",
     "metadata": {
      "slideshow": {
       "slide_type": "fragment"
      }
     },
     "outputs": [
      {
       "html": [
        "<div style=\"max-height:1000px;max-width:1500px;overflow:auto;\">\n",
        "<table border=\"1\" class=\"dataframe\">\n",
        "  <thead>\n",
        "    <tr style=\"text-align: right;\">\n",
        "      <th></th>\n",
        "      <th>A</th>\n",
        "      <th>B</th>\n",
        "      <th>C</th>\n",
        "      <th>D</th>\n",
        "    </tr>\n",
        "  </thead>\n",
        "  <tbody>\n",
        "    <tr>\n",
        "      <th>2013-01-01</th>\n",
        "      <td> 0.795820</td>\n",
        "      <td>-0.306159</td>\n",
        "      <td>-0.315510</td>\n",
        "      <td> 0.323496</td>\n",
        "    </tr>\n",
        "    <tr>\n",
        "      <th>2013-01-02</th>\n",
        "      <td>-0.298540</td>\n",
        "      <td> 0.206682</td>\n",
        "      <td> 0.113475</td>\n",
        "      <td>-1.056718</td>\n",
        "    </tr>\n",
        "    <tr>\n",
        "      <th>2013-01-03</th>\n",
        "      <td>-0.086075</td>\n",
        "      <td>-1.015486</td>\n",
        "      <td> 0.331998</td>\n",
        "      <td> 0.119726</td>\n",
        "    </tr>\n",
        "    <tr>\n",
        "      <th>2013-01-04</th>\n",
        "      <td> 1.409416</td>\n",
        "      <td> 0.777124</td>\n",
        "      <td>-0.724238</td>\n",
        "      <td>-0.056408</td>\n",
        "    </tr>\n",
        "    <tr>\n",
        "      <th>2013-01-05</th>\n",
        "      <td>-0.739724</td>\n",
        "      <td> 0.531565</td>\n",
        "      <td>-0.031237</td>\n",
        "      <td>-0.744366</td>\n",
        "    </tr>\n",
        "    <tr>\n",
        "      <th>2013-01-06</th>\n",
        "      <td>-0.615297</td>\n",
        "      <td>-1.044124</td>\n",
        "      <td>-0.997101</td>\n",
        "      <td>-1.084653</td>\n",
        "    </tr>\n",
        "  </tbody>\n",
        "</table>\n",
        "</div>"
       ],
       "metadata": {},
       "output_type": "pyout",
       "prompt_number": 91,
       "text": [
        "                   A         B         C         D\n",
        "2013-01-01  0.795820 -0.306159 -0.315510  0.323496\n",
        "2013-01-02 -0.298540  0.206682  0.113475 -1.056718\n",
        "2013-01-03 -0.086075 -1.015486  0.331998  0.119726\n",
        "2013-01-04  1.409416  0.777124 -0.724238 -0.056408\n",
        "2013-01-05 -0.739724  0.531565 -0.031237 -0.744366\n",
        "2013-01-06 -0.615297 -1.044124 -0.997101 -1.084653"
       ]
      }
     ],
     "prompt_number": 91
    },
    {
     "cell_type": "markdown",
     "metadata": {
      "slideshow": {
       "slide_type": "slide"
      }
     },
     "source": [
      "# R\n",
      "\n",
      "Statistical Computing and Graphics\n",
      "\n",
      "http://www.r-project.org/"
     ]
    },
    {
     "cell_type": "code",
     "collapsed": false,
     "input": [
      "%load_ext rpy2.ipython"
     ],
     "language": "python",
     "metadata": {
      "slideshow": {
       "slide_type": "skip"
      }
     },
     "outputs": [],
     "prompt_number": 4
    },
    {
     "cell_type": "markdown",
     "metadata": {
      "slideshow": {
       "slide_type": "subslide"
      }
     },
     "source": [
      "# Data Frames"
     ]
    },
    {
     "cell_type": "code",
     "collapsed": false,
     "input": [
      "%%R\n",
      "\n",
      "head(mtcars)"
     ],
     "language": "python",
     "metadata": {
      "slideshow": {
       "slide_type": "fragment"
      }
     },
     "outputs": [
      {
       "metadata": {},
       "output_type": "display_data",
       "text": [
        "                   mpg cyl disp  hp drat    wt  qsec vs am gear carb\n",
        "Mazda RX4         21.0   6  160 110 3.90 2.620 16.46  0  1    4    4\n",
        "Mazda RX4 Wag     21.0   6  160 110 3.90 2.875 17.02  0  1    4    4\n",
        "Datsun 710        22.8   4  108  93 3.85 2.320 18.61  1  1    4    1\n",
        "Hornet 4 Drive    21.4   6  258 110 3.08 3.215 19.44  1  0    3    1\n",
        "Hornet Sportabout 18.7   8  360 175 3.15 3.440 17.02  0  0    3    2\n",
        "Valiant           18.1   6  225 105 2.76 3.460 20.22  1  0    3    1\n"
       ]
      }
     ],
     "prompt_number": 5
    },
    {
     "cell_type": "markdown",
     "metadata": {
      "slideshow": {
       "slide_type": "subslide"
      }
     },
     "source": [
      "# Beautiful Plots"
     ]
    },
    {
     "cell_type": "code",
     "collapsed": false,
     "input": [
      "%%R\n",
      "\n",
      "library(ggplot2)\n",
      "\n",
      "mtcars$gear <- factor(mtcars$gear,levels=c(3,4,5),\n",
      "   labels=c(\"3gears\",\"4gears\",\"5gears\"))\n",
      "mtcars$am <- factor(mtcars$am,levels=c(0,1),\n",
      "   labels=c(\"Automatic\",\"Manual\"))\n",
      "mtcars$cyl <- factor(mtcars$cyl,levels=c(4,6,8),\n",
      "   labels=c(\"4cyl\",\"6cyl\",\"8cyl\"))\n",
      "\n",
      "qplot(mpg, data=mtcars, geom=\"density\", fill=gear, alpha=I(.5),\n",
      "   main=\"Distribution of Gas Milage\", xlab=\"Miles Per Gallon\",\n",
      "   ylab=\"Density\")"
     ],
     "language": "python",
     "metadata": {
      "slideshow": {
       "slide_type": "fragment"
      }
     },
     "outputs": [
      {
       "metadata": {},
       "output_type": "display_data",
       "text": [
        "Use suppressPackageStartupMessages to eliminate package startup messages.\n"
       ]
      },
      {
       "metadata": {},
       "output_type": "display_data",
       "png": "[encoded data removed]"
      }
     ],
     "prompt_number": 7
    },
    {
     "cell_type": "markdown",
     "metadata": {
      "slideshow": {
       "slide_type": "subslide"
      }
     },
     "source": [
      "# Regression"
     ]
    },
    {
     "cell_type": "code",
     "collapsed": false,
     "input": [
      "%%R\n",
      "\n",
      "library(ggplot2)\n",
      "\n",
      "x <- c(1,2,3,4,5,6)\n",
      "y <- x^2\n",
      "lm_1 <- lm(y ~ x)\n",
      "print(lm_1)\n",
      "summary(lm_1)\n",
      "par(mfrow=c(2, 2))\n",
      "plot(lm_1)"
     ],
     "language": "python",
     "metadata": {
      "slideshow": {
       "slide_type": "fragment"
      }
     },
     "outputs": [
      {
       "metadata": {},
       "output_type": "display_data",
       "text": [
        "\n",
        "Call:\n",
        "lm(formula = y ~ x)\n",
        "\n",
        "Coefficients:\n",
        "(Intercept)            x  \n",
        "     -9.333        7.000  \n",
        "\n"
       ]
      },
      {
       "metadata": {},
       "output_type": "display_data",
       "png": "[encoded data removed]"
      }
     ],
     "prompt_number": 10
    },
    {
     "cell_type": "markdown",
     "metadata": {
      "slideshow": {
       "slide_type": "slide"
      }
     },
     "source": [
      "# Octave\n",
      "\n",
      "Open source Matlab clone"
     ]
    },
    {
     "cell_type": "code",
     "collapsed": false,
     "input": [
      "%load_ext octavemagic"
     ],
     "language": "python",
     "metadata": {
      "slideshow": {
       "slide_type": "fragment"
      }
     },
     "outputs": [
      {
       "output_type": "stream",
       "stream": "stdout",
       "text": [
        "The octavemagic extension is already loaded. To reload it, use:\n",
        "  %reload_ext octavemagic\n"
       ]
      }
     ],
     "prompt_number": 110
    },
    {
     "cell_type": "code",
     "collapsed": false,
     "input": [
      "%%octave -s 600,200 -f png\n",
      "\n",
      "subplot(121);\n",
      "[x, y] = meshgrid(0:0.1:3);\n",
      "r = sin(x - 0.5).^2 + cos(y - 0.5).^2;\n",
      "surf(x, y, r);\n",
      "\n",
      "subplot(122);\n",
      "sombrero()"
     ],
     "language": "python",
     "metadata": {
      "slideshow": {
       "slide_type": "fragment"
      }
     },
     "outputs": [
      {
       "ename": "IndexError",
       "evalue": "list index out of range",
       "output_type": "pyerr",
       "traceback": [
        "\u001b[1;31m---------------------------------------------------------------------------\u001b[0m\n\u001b[1;31mIndexError\u001b[0m                                Traceback (most recent call last)",
        "\u001b[1;32m<ipython-input-108-322f69a374da>\u001b[0m in \u001b[0;36m<module>\u001b[1;34m()\u001b[0m\n\u001b[1;32m----> 1\u001b[1;33m \u001b[0mget_ipython\u001b[0m\u001b[1;33m(\u001b[0m\u001b[1;33m)\u001b[0m\u001b[1;33m.\u001b[0m\u001b[0mrun_cell_magic\u001b[0m\u001b[1;33m(\u001b[0m\u001b[1;34mu'octave'\u001b[0m\u001b[1;33m,\u001b[0m \u001b[1;34mu'-s 600,200 -f png'\u001b[0m\u001b[1;33m,\u001b[0m \u001b[1;34mu'\\nsubplot(121);\\n[x, y] = meshgrid(0:0.1:3);\\nr = sin(x - 0.5).^2 + cos(y - 0.5).^2;\\nsurf(x, y, r);\\n\\nsubplot(122);\\nsombrero()'\u001b[0m\u001b[1;33m)\u001b[0m\u001b[1;33m\u001b[0m\u001b[0m\n\u001b[0m",
        "\u001b[1;32m/home/moorepants/anaconda/lib/python2.7/site-packages/IPython/core/interactiveshell.pyc\u001b[0m in \u001b[0;36mrun_cell_magic\u001b[1;34m(self, magic_name, line, cell)\u001b[0m\n\u001b[0;32m   2160\u001b[0m             \u001b[0mmagic_arg_s\u001b[0m \u001b[1;33m=\u001b[0m \u001b[0mself\u001b[0m\u001b[1;33m.\u001b[0m\u001b[0mvar_expand\u001b[0m\u001b[1;33m(\u001b[0m\u001b[0mline\u001b[0m\u001b[1;33m,\u001b[0m \u001b[0mstack_depth\u001b[0m\u001b[1;33m)\u001b[0m\u001b[1;33m\u001b[0m\u001b[0m\n\u001b[0;32m   2161\u001b[0m             \u001b[1;32mwith\u001b[0m \u001b[0mself\u001b[0m\u001b[1;33m.\u001b[0m\u001b[0mbuiltin_trap\u001b[0m\u001b[1;33m:\u001b[0m\u001b[1;33m\u001b[0m\u001b[0m\n\u001b[1;32m-> 2162\u001b[1;33m                 \u001b[0mresult\u001b[0m \u001b[1;33m=\u001b[0m \u001b[0mfn\u001b[0m\u001b[1;33m(\u001b[0m\u001b[0mmagic_arg_s\u001b[0m\u001b[1;33m,\u001b[0m \u001b[0mcell\u001b[0m\u001b[1;33m)\u001b[0m\u001b[1;33m\u001b[0m\u001b[0m\n\u001b[0m\u001b[0;32m   2163\u001b[0m             \u001b[1;32mreturn\u001b[0m \u001b[0mresult\u001b[0m\u001b[1;33m\u001b[0m\u001b[0m\n\u001b[0;32m   2164\u001b[0m \u001b[1;33m\u001b[0m\u001b[0m\n",
        "\u001b[1;32m/home/moorepants/anaconda/lib/python2.7/site-packages/IPython/extensions/octavemagic.pyc\u001b[0m in \u001b[0;36moctave\u001b[1;34m(self, line, cell, local_ns)\u001b[0m\n",
        "\u001b[1;32m/home/moorepants/anaconda/lib/python2.7/site-packages/IPython/core/magic.pyc\u001b[0m in \u001b[0;36m<lambda>\u001b[1;34m(f, *a, **k)\u001b[0m\n\u001b[0;32m    191\u001b[0m     \u001b[1;31m# but it's overkill for just that one bit of state.\u001b[0m\u001b[1;33m\u001b[0m\u001b[1;33m\u001b[0m\u001b[0m\n\u001b[0;32m    192\u001b[0m     \u001b[1;32mdef\u001b[0m \u001b[0mmagic_deco\u001b[0m\u001b[1;33m(\u001b[0m\u001b[0marg\u001b[0m\u001b[1;33m)\u001b[0m\u001b[1;33m:\u001b[0m\u001b[1;33m\u001b[0m\u001b[0m\n\u001b[1;32m--> 193\u001b[1;33m         \u001b[0mcall\u001b[0m \u001b[1;33m=\u001b[0m \u001b[1;32mlambda\u001b[0m \u001b[0mf\u001b[0m\u001b[1;33m,\u001b[0m \u001b[1;33m*\u001b[0m\u001b[0ma\u001b[0m\u001b[1;33m,\u001b[0m \u001b[1;33m**\u001b[0m\u001b[0mk\u001b[0m\u001b[1;33m:\u001b[0m \u001b[0mf\u001b[0m\u001b[1;33m(\u001b[0m\u001b[1;33m*\u001b[0m\u001b[0ma\u001b[0m\u001b[1;33m,\u001b[0m \u001b[1;33m**\u001b[0m\u001b[0mk\u001b[0m\u001b[1;33m)\u001b[0m\u001b[1;33m\u001b[0m\u001b[0m\n\u001b[0m\u001b[0;32m    194\u001b[0m \u001b[1;33m\u001b[0m\u001b[0m\n\u001b[0;32m    195\u001b[0m         \u001b[1;32mif\u001b[0m \u001b[0mcallable\u001b[0m\u001b[1;33m(\u001b[0m\u001b[0marg\u001b[0m\u001b[1;33m)\u001b[0m\u001b[1;33m:\u001b[0m\u001b[1;33m\u001b[0m\u001b[0m\n",
        "\u001b[1;32m/home/moorepants/anaconda/lib/python2.7/site-packages/IPython/extensions/octavemagic.pyc\u001b[0m in \u001b[0;36moctave\u001b[1;34m(self, line, cell, local_ns)\u001b[0m\n\u001b[0;32m    327\u001b[0m         \u001b[1;32mexcept\u001b[0m \u001b[1;33m(\u001b[0m\u001b[0moct2py\u001b[0m\u001b[1;33m.\u001b[0m\u001b[0mOct2PyError\u001b[0m\u001b[1;33m)\u001b[0m \u001b[1;32mas\u001b[0m \u001b[0mexception\u001b[0m\u001b[1;33m:\u001b[0m\u001b[1;33m\u001b[0m\u001b[0m\n\u001b[0;32m    328\u001b[0m             \u001b[0mmsg\u001b[0m \u001b[1;33m=\u001b[0m \u001b[0mexception\u001b[0m\u001b[1;33m.\u001b[0m\u001b[0mmessage\u001b[0m\u001b[1;33m\u001b[0m\u001b[0m\n\u001b[1;32m--> 329\u001b[1;33m             \u001b[0mmsg\u001b[0m \u001b[1;33m=\u001b[0m \u001b[0mmsg\u001b[0m\u001b[1;33m.\u001b[0m\u001b[0msplit\u001b[0m\u001b[1;33m(\u001b[0m\u001b[1;34m'# ___<end_pre_call>___ #'\u001b[0m\u001b[1;33m)\u001b[0m\u001b[1;33m[\u001b[0m\u001b[1;36m1\u001b[0m\u001b[1;33m]\u001b[0m\u001b[1;33m\u001b[0m\u001b[0m\n\u001b[0m\u001b[0;32m    330\u001b[0m             \u001b[0mmsg\u001b[0m \u001b[1;33m=\u001b[0m \u001b[0mmsg\u001b[0m\u001b[1;33m.\u001b[0m\u001b[0msplit\u001b[0m\u001b[1;33m(\u001b[0m\u001b[1;34m'# ___<start_post_call>___ #'\u001b[0m\u001b[1;33m)\u001b[0m\u001b[1;33m[\u001b[0m\u001b[1;36m0\u001b[0m\u001b[1;33m]\u001b[0m\u001b[1;33m\u001b[0m\u001b[0m\n\u001b[0;32m    331\u001b[0m             raise OctaveMagicError('Octave could not complete execution.  '\n",
        "\u001b[1;31mIndexError\u001b[0m: list index out of range"
       ]
      }
     ],
     "prompt_number": 108
    },
    {
     "cell_type": "markdown",
     "metadata": {
      "slideshow": {
       "slide_type": "slide"
      }
     },
     "source": [
      "# Julia"
     ]
    },
    {
     "cell_type": "code",
     "collapsed": false,
     "input": [
      "HTML('<iframe src=\"http://julialang.org/\" width=700 height=350></iframe>')"
     ],
     "language": "python",
     "metadata": {
      "slideshow": {
       "slide_type": "fragment"
      }
     },
     "outputs": [
      {
       "html": [
        "<iframe src=\"http://julialang.org/\" width=700 height=350></iframe>"
       ],
       "metadata": {},
       "output_type": "pyout",
       "prompt_number": 5,
       "text": [
        "<IPython.core.display.HTML at 0x7f3b3cedee10>"
       ]
      }
     ],
     "prompt_number": 5
    },
    {
     "cell_type": "markdown",
     "metadata": {
      "slideshow": {
       "slide_type": "slide"
      }
     },
     "source": [
      "# Data\n",
      "\n",
      "What do we do with the data? ... Depends on the data.\n",
      "\n",
      "But catch all solutions exist."
     ]
    },
    {
     "cell_type": "markdown",
     "metadata": {
      "slideshow": {
       "slide_type": "slide"
      }
     },
     "source": [
      "- institutional repositories\n",
      "- Figshare and zenodo, get doi for data\n",
      "- Supplementary materials\n",
      "- Include meta data"
     ]
    },
    {
     "cell_type": "markdown",
     "metadata": {
      "slideshow": {
       "slide_type": "slide"
      }
     },
     "source": [
      "# Literate Programming"
     ]
    },
    {
     "cell_type": "code",
     "collapsed": false,
     "input": [
      "from IPython.html.widgets import interactive\n",
      "from IPython.display import display\n",
      "\n",
      "%matplotlib inline"
     ],
     "language": "python",
     "metadata": {
      "slideshow": {
       "slide_type": "skip"
      }
     },
     "outputs": [],
     "prompt_number": 77
    },
    {
     "cell_type": "code",
     "collapsed": false,
     "input": [
      "import matplotlib.pyplot as plt\n",
      "from numpy.linalg import eig\n",
      "from dtk import bicycle\n",
      "\n",
      "p = bicycle.benchmark_parameters()\n",
      "\n",
      "M, C1, K0, K2 = bicycle.benchmark_par_to_canonical(p)\n",
      "speeds, As, Bs = bicycle.benchmark_state_space_vs_speed(M, C1, K0, K2, v0=0.0, vf=10.0)\n",
      "eigenvals, eigenvectors = eig(As)\n",
      "fig, ax = plt.subplots()\n",
      "lines = plt.plot(speeds, eigenvals, 'k.')\n",
      "plt.ylim((-10.0, 10.0))\n",
      "plt.close(fig)\n",
      "\n",
      "def plot(v0=0.0, vf=10.0, **parameters):\n",
      "    M, C1, K0, K2 = bicycle.benchmark_par_to_canonical(parameters)\n",
      "    speeds, As, Bs = bicycle.benchmark_state_space_vs_speed(M, C1, K0, K2, v0=v0, vf=vf)\n",
      "    eigenvals, eigenvectors = eig(As)\n",
      "    for i, line in enumerate(lines):\n",
      "        line.set_xdata = speeds\n",
      "        line.set_ydata = eigenvals[i]\n",
      "    fig.canvas.draw()\n",
      "    display(fig)"
     ],
     "language": "python",
     "metadata": {
      "slideshow": {
       "slide_type": "skip"
      }
     },
     "outputs": [],
     "prompt_number": 78
    },
    {
     "cell_type": "code",
     "collapsed": false,
     "input": [
      "ranges = {k: (v - 0.5 * abs(v), v + 0.5 * abs(v), 0.1 * abs(v)) for k, v in p.items()}\n",
      "ranges.update({'v0': (-30.0, 30.0, 1.0), 'vf': (-30.0, 30.0, 1.0)})\n",
      "w = interactive(plot, **ranges)\n",
      "display(w)"
     ],
     "language": "python",
     "metadata": {
      "slideshow": {
       "slide_type": "skip"
      }
     },
     "outputs": [
      {
       "metadata": {},
       "output_type": "display_data",
       "png": "[encoded data removed]",
       "text": [
        "<matplotlib.figure.Figure at 0x7f4a15199490>"
       ]
      }
     ],
     "prompt_number": 79
    },
    {
     "cell_type": "code",
     "collapsed": false,
     "input": [],
     "language": "python",
     "metadata": {},
     "outputs": []
    }
   ],
   "metadata": {}
  }
 ]
}