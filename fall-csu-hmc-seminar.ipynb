{
 "metadata": {
  "celltoolbar": "Slideshow",
  "name": "",
  "signature": "sha256:e3b1a83eedc9a8a65a62c203bdaa7d7a44f0d801a2d07b2e10804b35283e2a9a"
 },
 "nbformat": 3,
 "nbformat_minor": 0,
 "worksheets": [
  {
   "cells": [
    {
     "cell_type": "markdown",
     "metadata": {
      "slideshow": {
       "slide_type": "slide"
      }
     },
     "source": [
      "#Reproducible Scientific Computing with Open Software and Open Data\n",
      "\n",
      "> If I have seen further it is by standing on the shoulders of giants.\n",
      ">\n",
      "> -- <cite>Isaac Newton</cite>\n",
      "\n",
      "Jason K. Moore  \n",
      "September 17, 2014  \n",
      "Human Motion and Control Seminar  \n",
      "Cleveland State University  "
     ]
    },
    {
     "cell_type": "markdown",
     "metadata": {
      "slideshow": {
       "slide_type": "slide"
      }
     },
     "source": [
      "> An article about computational science in a scientific publication is not\n",
      "> the scholarship itself, it is merely advertising of the scholarship. The\n",
      "> actual scholarship is the complete software development environment and\n",
      "> the complete set of instructions which generated the figures.\n",
      ">\n",
      "> -- Jonathan Buckheit and David Donoho, paraphrasing Jon Claerbout 1995"
     ]
    },
    {
     "cell_type": "markdown",
     "metadata": {
      "slideshow": {
       "slide_type": "slide"
      }
     },
     "source": [
      "> While currently there is unilateral emphasis on 'first' discoveries,\n",
      "> there should be as much emphasis on replication of discoveries.\n",
      ">\n",
      "> -- <cite>John P. A. Ioannidis</cite>"
     ]
    },
    {
     "cell_type": "markdown",
     "metadata": {
      "slideshow": {
       "slide_type": "slide"
      }
     },
     "source": [
      "# Image a Future where...\n"
     ]
    },
    {
     "cell_type": "markdown",
     "metadata": {
      "slideshow": {
       "slide_type": "subslide"
      }
     },
     "source": [
      "papers are not static views of the end state of a research conclusion, but an interactive document where the reader can become the analyst."
     ]
    },
    {
     "cell_type": "markdown",
     "metadata": {
      "slideshow": {
       "slide_type": "subslide"
      }
     },
     "source": [
      "selecting any figure in a scientific paper brings about interactivy."
     ]
    },
    {
     "cell_type": "markdown",
     "metadata": {
      "slideshow": {
       "slide_type": "subslide"
      }
     },
     "source": [
      "extracting a working software environment and data from every article, report, and book is as simple as clicking a hyperlink."
     ]
    },
    {
     "cell_type": "markdown",
     "metadata": {
      "slideshow": {
       "slide_type": "subslide"
      }
     },
     "source": [
      "all data from a discipline is accessible in a public data base for perpetuity."
     ]
    },
    {
     "cell_type": "markdown",
     "metadata": {
      "slideshow": {
       "slide_type": "slide"
      }
     },
     "source": [
      "# I want future with this\n",
      "\n",
      "I need some human motion walking data. I know tons of people have collected data on human motion. I've seen tons of papers and there are gait labs all over the world now.\n",
      "\n",
      "Oh! Look! There is the website called http://humanmotiondata.org. It looks like I just have to type in this query...\n",
      "\n",
      "`where (treadmill is True) AND (20 < age < 40) AND (1.0 < speed < 2.0) AND (num_markers > 30) AND (force_plate is dual)`\n",
      "\n",
      "Querying results...please wait.  \n",
      "Done.  \n",
      "You have found 30,735 trials of human motion data, download C3D formatted data at this link http://humanmotiondata.org/your-awesome-data-set.zip"
     ]
    },
    {
     "cell_type": "markdown",
     "metadata": {
      "slideshow": {
       "slide_type": "slide"
      }
     },
     "source": [
      "# Copying is \"free\" with digital objects\n",
      "\n",
      "Software and Data have a Magic Property:\n",
      "\n",
      "Copying is extrermely low cost and in many cases instantaneous.\n",
      "\n",
      "Currently data is horded by the collector because they the only thing of value are the results. Academia does not value good data collectors the way it does good analysts."
     ]
    },
    {
     "cell_type": "markdown",
     "metadata": {
      "slideshow": {
       "slide_type": "slide"
      }
     },
     "source": [
      "# Questions"
     ]
    },
    {
     "cell_type": "markdown",
     "metadata": {
      "slideshow": {
       "slide_type": "subslide"
      }
     },
     "source": [
      "How much time do you spend developing code to get your results?"
     ]
    },
    {
     "cell_type": "markdown",
     "metadata": {
      "slideshow": {
       "slide_type": "subslide"
      }
     },
     "source": [
      "How much time do you spend collecting data?"
     ]
    },
    {
     "cell_type": "markdown",
     "metadata": {
      "slideshow": {
       "slide_type": "subslide"
      }
     },
     "source": [
      "Should we let other scientists \"stand on our shoulders\"?"
     ]
    },
    {
     "cell_type": "markdown",
     "metadata": {
      "slideshow": {
       "slide_type": "subslide"
      }
     },
     "source": [
      " \n",
      "Should other scientists have to reinvent the wheel?"
     ]
    },
    {
     "cell_type": "markdown",
     "metadata": {
      "slideshow": {
       "slide_type": "slide"
      }
     },
     "source": [
      "# Facts\n"
     ]
    },
    {
     "cell_type": "markdown",
     "metadata": {
      "slideshow": {
       "slide_type": "subslide"
      }
     },
     "source": [
      "Most data sees one use and is locked away in lab notebooks and old hard drives."
     ]
    },
    {
     "cell_type": "markdown",
     "metadata": {
      "slideshow": {
       "slide_type": "subslide"
      }
     },
     "source": [
      "Most scientists think of programming as a tax they have to pay in order to do science."
     ]
    },
    {
     "cell_type": "markdown",
     "metadata": {
      "slideshow": {
       "slide_type": "subslide"
      }
     },
     "source": [
      "Scientists do not care about reproducibility, as it is a perceived hurdle to productivity."
     ]
    },
    {
     "cell_type": "markdown",
     "metadata": {
      "slideshow": {
       "slide_type": "fragment"
      }
     },
     "source": [
      "> Respondents reported that the single biggest barrier to sharing code\n",
      "> and data was the time it takes to clean up and document the work to\n",
      "> prepare it for release and reuse (56 percent of respondents cited this\n",
      "> reason for not sharing data and 78 percent cited this reason for not sharing code.).\n",
      ">\n",
      "> --- http://web.stanford.edu/~vcs/papers/CiSE2012-LMS.pdf\n"
     ]
    },
    {
     "cell_type": "markdown",
     "metadata": {
      "slideshow": {
       "slide_type": "slide"
      }
     },
     "source": [
      "# What is reproducibility?"
     ]
    },
    {
     "cell_type": "markdown",
     "metadata": {
      "slideshow": {
       "slide_type": "fragment"
      }
     },
     "source": [
      ">Reproducibility is the ability of an entire experiment or study to be reproduced, either by the researcher or by someone else working independently. It is one of the main principles of the scientific method.\n",
      "\n",
      "http://en.wikipedia.org/wiki/Reproducibility"
     ]
    },
    {
     "cell_type": "markdown",
     "metadata": {
      "slideshow": {
       "slide_type": "slide"
      }
     },
     "source": [
      "# What is repeatibility?"
     ]
    },
    {
     "cell_type": "markdown",
     "metadata": {
      "slideshow": {
       "slide_type": "fragment"
      }
     },
     "source": [
      "> Repeatability is the degree of agreement of tests or measurements on replicate specimens by the same observer in the same laboratory."
     ]
    },
    {
     "cell_type": "markdown",
     "metadata": {
      "slideshow": {
       "slide_type": "slide"
      }
     },
     "source": [
      "# Is science actually reproducible?\n",
      "\n",
      "[ref](http://www.jove.com/blog/2012/05/03/studies-show-only-10-of-published-science-articles-are-reproducible-what-is-happening)"
     ]
    },
    {
     "cell_type": "markdown",
     "metadata": {
      "slideshow": {
       "slide_type": "subslide"
      }
     },
     "source": [
      "The biotech company Amgen had a team of about 100 scientists trying to reproduce the findings\n",
      "of 53 \u201clandmark\u201d articles in cancer research published by reputable labs in top journals.\n",
      "  \n",
      "Only 6 of the 53 studies were reproduced (about 10%).\n",
      "\n",
      "http://www.reuters.com/article/2012/03/28/us-science-cancer-idUSBRE82R12P20120328"
     ]
    },
    {
     "cell_type": "markdown",
     "metadata": {
      "slideshow": {
       "slide_type": "subslide"
      }
     },
     "source": [
      "Scientists at the pharmaceutical company, Bayer, examined 67 target-validation projects in oncology, women\u2019s health, and cardiovascular medicine.\n",
      "\n",
      "Published results were reproduced in only 14 out of 67 projects (about 21%).\n",
      "\n",
      "http://blogs.nature.com/news/2011/09/reliability_of_new_drug_target.html"
     ]
    },
    {
     "cell_type": "markdown",
     "metadata": {
      "slideshow": {
       "slide_type": "subslide"
      }
     },
     "source": [
      "The project, PsychFileDrawer, dedicated to replication of published articles in experimental psychology, shows a\n",
      "replication rate 3 out of 9 (33%) so far.\n",
      "\n",
      "http://www.psychfiledrawer.org/view_article_list.php"
     ]
    },
    {
     "cell_type": "markdown",
     "metadata": {
      "slideshow": {
       "slide_type": "subslide"
      }
     },
     "source": [
      "# 2010 Arsenic Based Life Controversy\n",
      "\n",
      ">For some years now, scientists have gotten increasingly worried about replication failures. In one recent example, NASA made a headline-grabbing announcement in 2010 that scientists had found bacteria that could live on arsenic\u2014a finding that would require biology textbooks to be rewritten. At the time, many experts condemned the paper as a poor piece of science that shouldn\u2019t have been published. This July, two teams of scientists reported that they couldn\u2019t replicate the results.\n",
      "\n",
      "http://www.slate.com/articles/health_and_science/science/2012/08/reproducing_scientific_studies_a_good_housekeeping_seal_of_approval_.html\n",
      "\n",
      "http://en.wikipedia.org/wiki/Felisa_Wolfe-Simon#Controversy\n",
      "\n",
      "http://retractionwatch.com/"
     ]
    },
    {
     "cell_type": "markdown",
     "metadata": {
      "slideshow": {
       "slide_type": "slide"
      }
     },
     "source": [
      "# Have you ever desired to have the data that produced a figure in a paper?\n",
      "\n",
      "How about so much that you write software to extract the data from the\n",
      "\n",
      "http://arohatgi.info/WebPlotDigitizer/"
     ]
    },
    {
     "cell_type": "code",
     "collapsed": false,
     "input": [
      "from IPython.display import YouTubeVideo\n",
      "\n",
      "YouTubeVideo('G8KPVVFrb6U')"
     ],
     "language": "python",
     "metadata": {
      "slideshow": {
       "slide_type": "fragment"
      }
     },
     "outputs": [
      {
       "html": [
        "\n",
        "        <iframe\n",
        "            width=\"400\"\n",
        "            height=300\"\n",
        "            src=\"https://www.youtube.com/embed/G8KPVVFrb6U\"\n",
        "            frameborder=\"0\"\n",
        "            allowfullscreen\n",
        "        ></iframe>\n",
        "        "
       ],
       "metadata": {},
       "output_type": "pyout",
       "prompt_number": 1,
       "text": [
        "<IPython.lib.display.YouTubeVideo at 0x7f6e18201fd0>"
       ]
      }
     ],
     "prompt_number": 1
    },
    {
     "cell_type": "markdown",
     "metadata": {
      "slideshow": {
       "slide_type": "slide"
      }
     },
     "source": [
      "# Policy"
     ]
    },
    {
     "cell_type": "markdown",
     "metadata": {
      "slideshow": {
       "slide_type": "subslide"
      }
     },
     "source": [
      "# The Whitehouse\n",
      "\n",
      "The Whitehouse shared their Open Access Mandate this past year:\n",
      "\n",
      "> That\u2019s why, in a policy memorandum released today, OSTP Director John Holdren has \n",
      "> directed Federal agencies with more than $100M in R&D expenditures to develop plans \n",
      "> to make the published results of federally funded research freely available to the \n",
      "> public within one year of publication and **requiring researchers to better account for \n",
      "> and manage the digital data resulting from federally funded scientific research**."
     ]
    },
    {
     "cell_type": "markdown",
     "metadata": {
      "slideshow": {
       "slide_type": "subslide"
      }
     },
     "source": [
      "# The NSF\n",
      "\n",
      "In 2011, the National Science Foundation started requiring a \"Data Management Plan\" with every grant submission.\n",
      "\n",
      "The requirements were purposely left vague for each discipline. Over time the requirements for disciplines will emerge."
     ]
    },
    {
     "cell_type": "markdown",
     "metadata": {
      "slideshow": {
       "slide_type": "subslide"
      }
     },
     "source": [
      "# Journals\n",
      "\n",
      "are making policies, such as the Data Policy from PLoS One:\n",
      "\n",
      "> Publication is conditional upon the agreement of the authors to make\n",
      "> freely available any materials and information described in their \n",
      "> publication that may be reasonably requested by others.\n",
      ">\n",
      "> --- http://www.plosone.org/static/policies.action#sharing"
     ]
    },
    {
     "cell_type": "markdown",
     "metadata": {
      "slideshow": {
       "slide_type": "fragment"
      }
     },
     "source": [
      "**Science** and the **Proceedings of the National Academy of Sciences (PNAS)** have made data and code disclosure\n",
      "a requirement for publication."
     ]
    },
    {
     "cell_type": "markdown",
     "metadata": {
      "slideshow": {
       "slide_type": "fragment"
      }
     },
     "source": [
      "> The journal Biostatistics, for which I am an associate editor, has implemented\n",
      "> a policy for encouraging authors of accepted papers to make their work\n",
      "> reproducible by others.\n",
      ">\n",
      "> --- Roger D. Peng, Reproducible Research in Computational Science, Science 2\n",
      "> December 2011, Vol. 334 no. 6060 pp. 1226-1227, DOI: 10.1126/science.1213847"
     ]
    },
    {
     "cell_type": "markdown",
     "metadata": {
      "slideshow": {
       "slide_type": "slide"
      }
     },
     "source": [
      "# Computational Science Needs Its Methods\n",
      "\n",
      "> The principal goal of these discussions and workshops is to develop publication\n",
      "> standards akin to both the proof in mathematics and the deductive sciences, and\n",
      "> the detailed descriptive protocols in the empirical sciences (the \u201cmethods\u201d section\n",
      "> of a paper describing the mechanics of the controlled experiment and hypothesis test).\n",
      "> Computational science is only a few decades old and must develop similar standards, \n",
      "> so that other research ers in the field can independently verify published results.\n",
      ">\n",
      "> --- http://web.stanford.edu/~vcs/papers/CiSE2012-LMS.pdf\n"
     ]
    },
    {
     "cell_type": "markdown",
     "metadata": {
      "slideshow": {
       "slide_type": "slide"
      }
     },
     "source": [
      "# The Science Code Manifesto"
     ]
    },
    {
     "cell_type": "code",
     "collapsed": false,
     "input": [
      "from IPython.display import HTML\n",
      "\n",
      "HTML('<iframe src=\"http://sciencecodemanifesto.org/\" width=1000 height=600></iframe>')"
     ],
     "language": "python",
     "metadata": {
      "slideshow": {
       "slide_type": "fragment"
      }
     },
     "outputs": [
      {
       "html": [
        "<iframe src=\"http://sciencecodemanifesto.org/\" width=1000 height=600></iframe>"
       ],
       "metadata": {},
       "output_type": "pyout",
       "prompt_number": 17,
       "text": [
        "<IPython.core.display.HTML at 0x7f6dd3792d10>"
       ]
      }
     ],
     "prompt_number": 17
    },
    {
     "cell_type": "markdown",
     "metadata": {
      "slideshow": {
       "slide_type": "slide"
      }
     },
     "source": [
      "# Ten Simple Rules for Reproducible Computational Research\n",
      "\n",
      "http://dx.doi.org/10.1371/journal.pcbi.1003285"
     ]
    },
    {
     "cell_type": "markdown",
     "metadata": {
      "slideshow": {
       "slide_type": "subslide"
      }
     },
     "source": [
      "## Rule 1\n",
      "\n",
      "For Every Result, Keep Track of How It Was Produced"
     ]
    },
    {
     "cell_type": "markdown",
     "metadata": {
      "slideshow": {
       "slide_type": "subslide"
      }
     },
     "source": [
      "## Rule 2\n",
      "\n",
      "Avoid Manual Data Manipulation Steps"
     ]
    },
    {
     "cell_type": "markdown",
     "metadata": {
      "slideshow": {
       "slide_type": "fragment"
      }
     },
     "source": [
      "See \"Spreadsheet Errors Cost Billions\": http://www.cnbc.com/id/100923538\n",
      "\n",
      "- 88 percent of all spreadsheets have errors in them\n",
      "- 50 percent of spreadsheets used by large companies have material defects\n",
      "\n",
      "> Interactive programs should always be able to save their state so they can\n",
      "> restart. Otherwise, dependence on an interactive program can be a form of\n",
      "> slavery (nonreproducible research).\n",
      ">\n",
      "> --- http://sepwww.stanford.edu/sep/jon/reproducible.html"
     ]
    },
    {
     "cell_type": "markdown",
     "metadata": {
      "slideshow": {
       "slide_type": "subslide"
      }
     },
     "source": [
      "## Rule 3\n",
      "\n",
      "Archive the Exact Versions of All External Programs Used"
     ]
    },
    {
     "cell_type": "markdown",
     "metadata": {
      "slideshow": {
       "slide_type": "subslide"
      }
     },
     "source": [
      "## Rule 4\n",
      "\n",
      "Version Control All Custom Scripts"
     ]
    },
    {
     "cell_type": "markdown",
     "metadata": {
      "slideshow": {
       "slide_type": "subslide"
      }
     },
     "source": [
      "## Rule 5\n",
      "\n",
      "Record All Intermediate Results, When Possible in Standardized Formats"
     ]
    },
    {
     "cell_type": "markdown",
     "metadata": {
      "slideshow": {
       "slide_type": "subslide"
      }
     },
     "source": [
      "## Rule 6\n",
      "\n",
      "For Analyses That Include Randomness, Note Underlying Random Seeds"
     ]
    },
    {
     "cell_type": "markdown",
     "metadata": {
      "slideshow": {
       "slide_type": "subslide"
      }
     },
     "source": [
      "## Rule 7\n",
      "\n",
      "Always Store Raw Data behind Plots"
     ]
    },
    {
     "cell_type": "markdown",
     "metadata": {
      "slideshow": {
       "slide_type": "subslide"
      }
     },
     "source": [
      "## Rule 8\n",
      "\n",
      "Generate Hierarchical Analysis Output, Allowing Layers of Increasing\n",
      "Detail to Be Inspected"
     ]
    },
    {
     "cell_type": "markdown",
     "metadata": {
      "slideshow": {
       "slide_type": "subslide"
      }
     },
     "source": [
      "## Rule 9\n",
      "\n",
      "Connect Textual Statements to Underlying Results"
     ]
    },
    {
     "cell_type": "markdown",
     "metadata": {
      "slideshow": {
       "slide_type": "subslide"
      }
     },
     "source": [
      "## Rule 10\n",
      "\n",
      "Provide Public Access to Scripts, Runs, and Results"
     ]
    },
    {
     "cell_type": "markdown",
     "metadata": {
      "slideshow": {
       "slide_type": "slide"
      }
     },
     "source": [
      "# Two main ingredients of computation reproduciblity"
     ]
    },
    {
     "cell_type": "markdown",
     "metadata": {
      "slideshow": {
       "slide_type": "subslide"
      }
     },
     "source": [
      "# 1\n",
      "\n",
      "Source code must be shared just like the \"methods\" section in a bench scientists' paper. This ensures that others can read your code (and hopefully run it too!)"
     ]
    },
    {
     "cell_type": "markdown",
     "metadata": {
      "slideshow": {
       "slide_type": "subslide"
      }
     },
     "source": [
      "# 2\n",
      "\n",
      "Data must be shared with adequate metadata and ideally be machine readable."
     ]
    },
    {
     "cell_type": "markdown",
     "metadata": {
      "slideshow": {
       "slide_type": "slide"
      }
     },
     "source": [
      "# Open Source Software For Science\n",
      "\n",
      "Open source software inherently provides computational reproducibility."
     ]
    },
    {
     "cell_type": "markdown",
     "metadata": {
      "slideshow": {
       "slide_type": "slide"
      }
     },
     "source": [
      "# Python and the SciPy stack"
     ]
    },
    {
     "cell_type": "markdown",
     "metadata": {
      "slideshow": {
       "slide_type": "subslide"
      }
     },
     "source": [
      "# NumPy\n",
      "\n",
      "efficient array manipulation, i.e. vectorized operations\n"
     ]
    },
    {
     "cell_type": "code",
     "collapsed": false,
     "input": [
      "from numpy.random import random\n",
      "from numpy.core.umath_tests import matrix_multiply\n",
      "\n",
      "left_matrices = random((1e6, 3, 4))\n",
      "right_matrices = random((1e6, 4, 3))\n",
      "\n",
      "%timeit products = matrix_multiply(left_matrices, right_matrices)"
     ],
     "language": "python",
     "metadata": {
      "slideshow": {
       "slide_type": "fragment"
      }
     },
     "outputs": [
      {
       "output_type": "stream",
       "stream": "stdout",
       "text": [
        "10 loops, best of 3: 98 ms per loop\n"
       ]
      }
     ],
     "prompt_number": 3
    },
    {
     "cell_type": "markdown",
     "metadata": {
      "slideshow": {
       "slide_type": "subslide"
      }
     },
     "source": [
      "# SciPy\n",
      "\n",
      "common scientific alogrithms\n",
      "interpolation, integration, signal processing, linear algebra, optimization, sparse matrices, etc\n"
     ]
    },
    {
     "cell_type": "code",
     "collapsed": false,
     "input": [
      "from numpy import array\n",
      "from scipy.optimize import minimize\n",
      "\n",
      "def rosen(x):\n",
      "    \"\"\"The Rosenbrock function\"\"\"\n",
      "    return sum(100.0 * (x[1:] - x[:-1]**2.0)**2.0 + (1 - x[:-1])**2.0)\n",
      "\n",
      "x0 = array([1.3, 0.7, 0.8, 1.9, 1.2])\n",
      "res = minimize(rosen, x0, method='nelder-mead',\n",
      "               options={'xtol': 1e-8, 'disp': True})\n",
      "\n",
      "print(res.x)"
     ],
     "language": "python",
     "metadata": {
      "slideshow": {
       "slide_type": "fragment"
      }
     },
     "outputs": [
      {
       "output_type": "stream",
       "stream": "stdout",
       "text": [
        "Optimization terminated successfully.\n",
        "         Current function value: 0.000000\n",
        "         Iterations: 339\n",
        "         Function evaluations: 571\n",
        "[ 1.  1.  1.  1.  1.]\n"
       ]
      }
     ],
     "prompt_number": 4
    },
    {
     "cell_type": "markdown",
     "metadata": {
      "slideshow": {
       "slide_type": "subslide"
      }
     },
     "source": [
      "# SymPy\n",
      "\n",
      "Symbolic mathematics"
     ]
    },
    {
     "cell_type": "code",
     "collapsed": false,
     "input": [
      "from sympy import symbols, solve, init_printing, integrate\n",
      "\n",
      "init_printing()\n",
      "\n",
      "a, b, c, x = symbols('a, b, c, x')\n",
      "\n",
      "f = a * x**2 + b * x + c\n",
      "\n",
      "solve(f, x)"
     ],
     "language": "python",
     "metadata": {
      "slideshow": {
       "slide_type": "fragment"
      }
     },
     "outputs": [
      {
       "latex": [
        "$$\\begin{bmatrix}\\frac{1}{2 a} \\left(- b + \\sqrt{- 4 a c + b^{2}}\\right), & - \\frac{1}{2 a} \\left(b + \\sqrt{- 4 a c + b^{2}}\\right)\\end{bmatrix}$$"
       ],
       "metadata": {},
       "output_type": "pyout",
       "png": "[encoded data removed]",
       "prompt_number": 5,
       "text": [
        "\u23a1        _____________   \u239b       _____________\u239e \u23a4\n",
        "\u23a2       \u2571           2    \u239c      \u2571           2 \u239f \u23a5\n",
        "\u23a2-b + \u2572\u2571  -4\u22c5a\u22c5c + b    -\u239db + \u2572\u2571  -4\u22c5a\u22c5c + b  \u23a0 \u23a5\n",
        "\u23a2\u2500\u2500\u2500\u2500\u2500\u2500\u2500\u2500\u2500\u2500\u2500\u2500\u2500\u2500\u2500\u2500\u2500\u2500\u2500\u2500\u2500, \u2500\u2500\u2500\u2500\u2500\u2500\u2500\u2500\u2500\u2500\u2500\u2500\u2500\u2500\u2500\u2500\u2500\u2500\u2500\u2500\u2500\u2500\u2500\u2500\u23a5\n",
        "\u23a3         2\u22c5a                     2\u22c5a           \u23a6"
       ]
      }
     ],
     "prompt_number": 5
    },
    {
     "cell_type": "code",
     "collapsed": false,
     "input": [
      "integrate(f, x)"
     ],
     "language": "python",
     "metadata": {
      "slideshow": {
       "slide_type": "fragment"
      }
     },
     "outputs": [
      {
       "latex": [
        "$$\\frac{a x^{3}}{3} + \\frac{b x^{2}}{2} + c x$$"
       ],
       "metadata": {},
       "output_type": "pyout",
       "png": "[encoded data removed]",
       "prompt_number": 6,
       "text": [
        "   3      2      \n",
        "a\u22c5x    b\u22c5x       \n",
        "\u2500\u2500\u2500\u2500 + \u2500\u2500\u2500\u2500 + c\u22c5x\n",
        " 3      2        "
       ]
      }
     ],
     "prompt_number": 6
    },
    {
     "cell_type": "markdown",
     "metadata": {
      "slideshow": {
       "slide_type": "subslide"
      }
     },
     "source": [
      "# Pandas\n",
      "\n",
      "Data munging"
     ]
    },
    {
     "cell_type": "code",
     "collapsed": false,
     "input": [
      "from pandas import date_range, DataFrame\n",
      "\n",
      "dates = date_range('20130101',periods=6)\n",
      "\n",
      "df = DataFrame(random((6, 4)), index=dates, columns=list('ABCD'))\n",
      "\n",
      "df.describe()"
     ],
     "language": "python",
     "metadata": {
      "slideshow": {
       "slide_type": "fragment"
      }
     },
     "outputs": [
      {
       "html": [
        "<div style=\"max-height:1000px;max-width:1500px;overflow:auto;\">\n",
        "<table border=\"1\" class=\"dataframe\">\n",
        "  <thead>\n",
        "    <tr style=\"text-align: right;\">\n",
        "      <th></th>\n",
        "      <th>A</th>\n",
        "      <th>B</th>\n",
        "      <th>C</th>\n",
        "      <th>D</th>\n",
        "    </tr>\n",
        "  </thead>\n",
        "  <tbody>\n",
        "    <tr>\n",
        "      <th>count</th>\n",
        "      <td> 6.000000</td>\n",
        "      <td> 6.000000</td>\n",
        "      <td> 6.000000</td>\n",
        "      <td> 6.000000</td>\n",
        "    </tr>\n",
        "    <tr>\n",
        "      <th>mean</th>\n",
        "      <td> 0.393978</td>\n",
        "      <td> 0.445260</td>\n",
        "      <td> 0.503314</td>\n",
        "      <td> 0.701840</td>\n",
        "    </tr>\n",
        "    <tr>\n",
        "      <th>std</th>\n",
        "      <td> 0.372650</td>\n",
        "      <td> 0.212155</td>\n",
        "      <td> 0.363711</td>\n",
        "      <td> 0.204216</td>\n",
        "    </tr>\n",
        "    <tr>\n",
        "      <th>min</th>\n",
        "      <td> 0.029123</td>\n",
        "      <td> 0.195980</td>\n",
        "      <td> 0.055893</td>\n",
        "      <td> 0.446875</td>\n",
        "    </tr>\n",
        "    <tr>\n",
        "      <th>25%</th>\n",
        "      <td> 0.097401</td>\n",
        "      <td> 0.335046</td>\n",
        "      <td> 0.191606</td>\n",
        "      <td> 0.553795</td>\n",
        "    </tr>\n",
        "    <tr>\n",
        "      <th>50%</th>\n",
        "      <td> 0.300139</td>\n",
        "      <td> 0.412475</td>\n",
        "      <td> 0.569833</td>\n",
        "      <td> 0.685004</td>\n",
        "    </tr>\n",
        "    <tr>\n",
        "      <th>75%</th>\n",
        "      <td> 0.650466</td>\n",
        "      <td> 0.499696</td>\n",
        "      <td> 0.771358</td>\n",
        "      <td> 0.880220</td>\n",
        "    </tr>\n",
        "    <tr>\n",
        "      <th>max</th>\n",
        "      <td> 0.937404</td>\n",
        "      <td> 0.812623</td>\n",
        "      <td> 0.920260</td>\n",
        "      <td> 0.938808</td>\n",
        "    </tr>\n",
        "  </tbody>\n",
        "</table>\n",
        "</div>"
       ],
       "metadata": {},
       "output_type": "pyout",
       "prompt_number": 7,
       "text": [
        "              A         B         C         D\n",
        "count  6.000000  6.000000  6.000000  6.000000\n",
        "mean   0.393978  0.445260  0.503314  0.701840\n",
        "std    0.372650  0.212155  0.363711  0.204216\n",
        "min    0.029123  0.195980  0.055893  0.446875\n",
        "25%    0.097401  0.335046  0.191606  0.553795\n",
        "50%    0.300139  0.412475  0.569833  0.685004\n",
        "75%    0.650466  0.499696  0.771358  0.880220\n",
        "max    0.937404  0.812623  0.920260  0.938808"
       ]
      }
     ],
     "prompt_number": 7
    },
    {
     "cell_type": "markdown",
     "metadata": {
      "slideshow": {
       "slide_type": "slide"
      }
     },
     "source": [
      "# R\n",
      "\n",
      "Statistical Computing and Graphics\n",
      "\n",
      "http://www.r-project.org/"
     ]
    },
    {
     "cell_type": "code",
     "collapsed": false,
     "input": [
      "%load_ext rpy2.ipython"
     ],
     "language": "python",
     "metadata": {
      "slideshow": {
       "slide_type": "skip"
      }
     },
     "outputs": [],
     "prompt_number": 8
    },
    {
     "cell_type": "markdown",
     "metadata": {
      "slideshow": {
       "slide_type": "subslide"
      }
     },
     "source": [
      "# Data Frames"
     ]
    },
    {
     "cell_type": "code",
     "collapsed": false,
     "input": [
      "%%R\n",
      "\n",
      "head(mtcars)"
     ],
     "language": "python",
     "metadata": {
      "slideshow": {
       "slide_type": "fragment"
      }
     },
     "outputs": [
      {
       "metadata": {},
       "output_type": "display_data",
       "text": [
        "                   mpg cyl disp  hp drat    wt  qsec vs am gear carb\n",
        "Mazda RX4         21.0   6  160 110 3.90 2.620 16.46  0  1    4    4\n",
        "Mazda RX4 Wag     21.0   6  160 110 3.90 2.875 17.02  0  1    4    4\n",
        "Datsun 710        22.8   4  108  93 3.85 2.320 18.61  1  1    4    1\n",
        "Hornet 4 Drive    21.4   6  258 110 3.08 3.215 19.44  1  0    3    1\n",
        "Hornet Sportabout 18.7   8  360 175 3.15 3.440 17.02  0  0    3    2\n",
        "Valiant           18.1   6  225 105 2.76 3.460 20.22  1  0    3    1\n"
       ]
      }
     ],
     "prompt_number": 9
    },
    {
     "cell_type": "markdown",
     "metadata": {
      "slideshow": {
       "slide_type": "subslide"
      }
     },
     "source": [
      "# Beautiful Plots"
     ]
    },
    {
     "cell_type": "code",
     "collapsed": false,
     "input": [
      "%%R\n",
      "\n",
      "library(ggplot2)\n",
      "\n",
      "mtcars$gear <- factor(mtcars$gear,levels=c(3,4,5),\n",
      "   labels=c(\"3gears\",\"4gears\",\"5gears\"))\n",
      "mtcars$am <- factor(mtcars$am,levels=c(0,1),\n",
      "   labels=c(\"Automatic\",\"Manual\"))\n",
      "mtcars$cyl <- factor(mtcars$cyl,levels=c(4,6,8),\n",
      "   labels=c(\"4cyl\",\"6cyl\",\"8cyl\"))\n",
      "\n",
      "qplot(mpg, data=mtcars, geom=\"density\", fill=gear, alpha=I(.5),\n",
      "   main=\"Distribution of Gas Milage\", xlab=\"Miles Per Gallon\",\n",
      "   ylab=\"Density\")"
     ],
     "language": "python",
     "metadata": {
      "slideshow": {
       "slide_type": "fragment"
      }
     },
     "outputs": [
      {
       "metadata": {},
       "output_type": "display_data",
       "png": "[encoded data removed]"
      }
     ],
     "prompt_number": 10
    },
    {
     "cell_type": "markdown",
     "metadata": {
      "slideshow": {
       "slide_type": "subslide"
      }
     },
     "source": [
      "# Regression"
     ]
    },
    {
     "cell_type": "code",
     "collapsed": false,
     "input": [
      "%%R\n",
      "\n",
      "library(ggplot2)\n",
      "\n",
      "x <- c(1,2,3,4,5,6)\n",
      "y <- x^2\n",
      "lm_1 <- lm(y ~ x)\n",
      "print(lm_1)\n",
      "summary(lm_1)\n",
      "par(mfrow=c(2, 2))\n",
      "plot(lm_1)"
     ],
     "language": "python",
     "metadata": {
      "slideshow": {
       "slide_type": "fragment"
      }
     },
     "outputs": [
      {
       "metadata": {},
       "output_type": "display_data",
       "text": [
        "\n",
        "Call:\n",
        "lm(formula = y ~ x)\n",
        "\n",
        "Coefficients:\n",
        "(Intercept)            x  \n",
        "     -9.333        7.000  \n",
        "\n"
       ]
      },
      {
       "metadata": {},
       "output_type": "display_data",
       "png": "[encoded data removed]"
      }
     ],
     "prompt_number": 11
    },
    {
     "cell_type": "markdown",
     "metadata": {
      "slideshow": {
       "slide_type": "slide"
      }
     },
     "source": [
      "# Octave\n",
      "\n",
      "Open source Matlab clone"
     ]
    },
    {
     "cell_type": "code",
     "collapsed": false,
     "input": [
      "%load_ext octavemagic"
     ],
     "language": "python",
     "metadata": {
      "slideshow": {
       "slide_type": "fragment"
      }
     },
     "outputs": [],
     "prompt_number": 12
    },
    {
     "cell_type": "code",
     "collapsed": false,
     "input": [
      "%%octave\n",
      "\n",
      "[x, y] = meshgrid(0:0.1:3);\n",
      "r = sin(x - 0.5).^2 + cos(y - 0.5).^2;\n",
      "surf(x, y, r);"
     ],
     "language": "python",
     "metadata": {
      "slideshow": {
       "slide_type": "fragment"
      }
     },
     "outputs": [
      {
       "ename": "IndexError",
       "evalue": "list index out of range",
       "output_type": "pyerr",
       "traceback": [
        "\u001b[1;31m---------------------------------------------------------------------------\u001b[0m\n\u001b[1;31mIndexError\u001b[0m                                Traceback (most recent call last)",
        "\u001b[1;32m<ipython-input-13-67b02ae09bd8>\u001b[0m in \u001b[0;36m<module>\u001b[1;34m()\u001b[0m\n\u001b[1;32m----> 1\u001b[1;33m \u001b[0mget_ipython\u001b[0m\u001b[1;33m(\u001b[0m\u001b[1;33m)\u001b[0m\u001b[1;33m.\u001b[0m\u001b[0mrun_cell_magic\u001b[0m\u001b[1;33m(\u001b[0m\u001b[1;34mu'octave'\u001b[0m\u001b[1;33m,\u001b[0m \u001b[1;34mu''\u001b[0m\u001b[1;33m,\u001b[0m \u001b[1;34mu'\\n[x, y] = meshgrid(0:0.1:3);\\nr = sin(x - 0.5).^2 + cos(y - 0.5).^2;\\nsurf(x, y, r);'\u001b[0m\u001b[1;33m)\u001b[0m\u001b[1;33m\u001b[0m\u001b[0m\n\u001b[0m",
        "\u001b[1;32m/home/moorepants/anaconda/lib/python2.7/site-packages/IPython/core/interactiveshell.pyc\u001b[0m in \u001b[0;36mrun_cell_magic\u001b[1;34m(self, magic_name, line, cell)\u001b[0m\n\u001b[0;32m   2160\u001b[0m             \u001b[0mmagic_arg_s\u001b[0m \u001b[1;33m=\u001b[0m \u001b[0mself\u001b[0m\u001b[1;33m.\u001b[0m\u001b[0mvar_expand\u001b[0m\u001b[1;33m(\u001b[0m\u001b[0mline\u001b[0m\u001b[1;33m,\u001b[0m \u001b[0mstack_depth\u001b[0m\u001b[1;33m)\u001b[0m\u001b[1;33m\u001b[0m\u001b[0m\n\u001b[0;32m   2161\u001b[0m             \u001b[1;32mwith\u001b[0m \u001b[0mself\u001b[0m\u001b[1;33m.\u001b[0m\u001b[0mbuiltin_trap\u001b[0m\u001b[1;33m:\u001b[0m\u001b[1;33m\u001b[0m\u001b[0m\n\u001b[1;32m-> 2162\u001b[1;33m                 \u001b[0mresult\u001b[0m \u001b[1;33m=\u001b[0m \u001b[0mfn\u001b[0m\u001b[1;33m(\u001b[0m\u001b[0mmagic_arg_s\u001b[0m\u001b[1;33m,\u001b[0m \u001b[0mcell\u001b[0m\u001b[1;33m)\u001b[0m\u001b[1;33m\u001b[0m\u001b[0m\n\u001b[0m\u001b[0;32m   2163\u001b[0m             \u001b[1;32mreturn\u001b[0m \u001b[0mresult\u001b[0m\u001b[1;33m\u001b[0m\u001b[0m\n\u001b[0;32m   2164\u001b[0m \u001b[1;33m\u001b[0m\u001b[0m\n",
        "\u001b[1;32m/home/moorepants/anaconda/lib/python2.7/site-packages/IPython/extensions/octavemagic.pyc\u001b[0m in \u001b[0;36moctave\u001b[1;34m(self, line, cell, local_ns)\u001b[0m\n",
        "\u001b[1;32m/home/moorepants/anaconda/lib/python2.7/site-packages/IPython/core/magic.pyc\u001b[0m in \u001b[0;36m<lambda>\u001b[1;34m(f, *a, **k)\u001b[0m\n\u001b[0;32m    191\u001b[0m     \u001b[1;31m# but it's overkill for just that one bit of state.\u001b[0m\u001b[1;33m\u001b[0m\u001b[1;33m\u001b[0m\u001b[0m\n\u001b[0;32m    192\u001b[0m     \u001b[1;32mdef\u001b[0m \u001b[0mmagic_deco\u001b[0m\u001b[1;33m(\u001b[0m\u001b[0marg\u001b[0m\u001b[1;33m)\u001b[0m\u001b[1;33m:\u001b[0m\u001b[1;33m\u001b[0m\u001b[0m\n\u001b[1;32m--> 193\u001b[1;33m         \u001b[0mcall\u001b[0m \u001b[1;33m=\u001b[0m \u001b[1;32mlambda\u001b[0m \u001b[0mf\u001b[0m\u001b[1;33m,\u001b[0m \u001b[1;33m*\u001b[0m\u001b[0ma\u001b[0m\u001b[1;33m,\u001b[0m \u001b[1;33m**\u001b[0m\u001b[0mk\u001b[0m\u001b[1;33m:\u001b[0m \u001b[0mf\u001b[0m\u001b[1;33m(\u001b[0m\u001b[1;33m*\u001b[0m\u001b[0ma\u001b[0m\u001b[1;33m,\u001b[0m \u001b[1;33m**\u001b[0m\u001b[0mk\u001b[0m\u001b[1;33m)\u001b[0m\u001b[1;33m\u001b[0m\u001b[0m\n\u001b[0m\u001b[0;32m    194\u001b[0m \u001b[1;33m\u001b[0m\u001b[0m\n\u001b[0;32m    195\u001b[0m         \u001b[1;32mif\u001b[0m \u001b[0mcallable\u001b[0m\u001b[1;33m(\u001b[0m\u001b[0marg\u001b[0m\u001b[1;33m)\u001b[0m\u001b[1;33m:\u001b[0m\u001b[1;33m\u001b[0m\u001b[0m\n",
        "\u001b[1;32m/home/moorepants/anaconda/lib/python2.7/site-packages/IPython/extensions/octavemagic.pyc\u001b[0m in \u001b[0;36moctave\u001b[1;34m(self, line, cell, local_ns)\u001b[0m\n\u001b[0;32m    327\u001b[0m         \u001b[1;32mexcept\u001b[0m \u001b[1;33m(\u001b[0m\u001b[0moct2py\u001b[0m\u001b[1;33m.\u001b[0m\u001b[0mOct2PyError\u001b[0m\u001b[1;33m)\u001b[0m \u001b[1;32mas\u001b[0m \u001b[0mexception\u001b[0m\u001b[1;33m:\u001b[0m\u001b[1;33m\u001b[0m\u001b[0m\n\u001b[0;32m    328\u001b[0m             \u001b[0mmsg\u001b[0m \u001b[1;33m=\u001b[0m \u001b[0mexception\u001b[0m\u001b[1;33m.\u001b[0m\u001b[0mmessage\u001b[0m\u001b[1;33m\u001b[0m\u001b[0m\n\u001b[1;32m--> 329\u001b[1;33m             \u001b[0mmsg\u001b[0m \u001b[1;33m=\u001b[0m \u001b[0mmsg\u001b[0m\u001b[1;33m.\u001b[0m\u001b[0msplit\u001b[0m\u001b[1;33m(\u001b[0m\u001b[1;34m'# ___<end_pre_call>___ #'\u001b[0m\u001b[1;33m)\u001b[0m\u001b[1;33m[\u001b[0m\u001b[1;36m1\u001b[0m\u001b[1;33m]\u001b[0m\u001b[1;33m\u001b[0m\u001b[0m\n\u001b[0m\u001b[0;32m    330\u001b[0m             \u001b[0mmsg\u001b[0m \u001b[1;33m=\u001b[0m \u001b[0mmsg\u001b[0m\u001b[1;33m.\u001b[0m\u001b[0msplit\u001b[0m\u001b[1;33m(\u001b[0m\u001b[1;34m'# ___<start_post_call>___ #'\u001b[0m\u001b[1;33m)\u001b[0m\u001b[1;33m[\u001b[0m\u001b[1;36m0\u001b[0m\u001b[1;33m]\u001b[0m\u001b[1;33m\u001b[0m\u001b[0m\n\u001b[0;32m    331\u001b[0m             raise OctaveMagicError('Octave could not complete execution.  '\n",
        "\u001b[1;31mIndexError\u001b[0m: list index out of range"
       ]
      }
     ],
     "prompt_number": 13
    },
    {
     "cell_type": "markdown",
     "metadata": {
      "slideshow": {
       "slide_type": "slide"
      }
     },
     "source": [
      "# Julia"
     ]
    },
    {
     "cell_type": "code",
     "collapsed": false,
     "input": [
      "HTML('<iframe src=\"http://julialang.org/\" width=1000 height=600></iframe>')"
     ],
     "language": "python",
     "metadata": {
      "slideshow": {
       "slide_type": "fragment"
      }
     },
     "outputs": [
      {
       "html": [
        "<iframe src=\"http://julialang.org/\" width=1000 height=600></iframe>"
       ],
       "metadata": {},
       "output_type": "pyout",
       "prompt_number": 14,
       "text": [
        "<IPython.core.display.HTML at 0x7f6dd3792750>"
       ]
      }
     ],
     "prompt_number": 14
    },
    {
     "cell_type": "markdown",
     "metadata": {
      "slideshow": {
       "slide_type": "slide"
      }
     },
     "source": [
      "# Examples"
     ]
    },
    {
     "cell_type": "markdown",
     "metadata": {
      "slideshow": {
       "slide_type": "slide"
      }
     },
     "source": [
      "# Versioned library of functions available in a source repository"
     ]
    },
    {
     "cell_type": "markdown",
     "metadata": {
      "slideshow": {
       "slide_type": "fragment"
      }
     },
     "source": [
      "http://github.com/csu-hmc/Gait-Analysis-Toolkit"
     ]
    },
    {
     "cell_type": "markdown",
     "metadata": {
      "slideshow": {
       "slide_type": "slide"
      }
     },
     "source": [
      "# Literate Programming"
     ]
    },
    {
     "cell_type": "markdown",
     "metadata": {
      "slideshow": {
       "slide_type": "subslide"
      }
     },
     "source": [
      "## Before\n",
      "\n",
      "```\n",
      "\\documentclass[a4paper]{article}\n",
      "\n",
      "\\title{Sweave Example 1}\n",
      "\\author{Friedrich Leisch}\n",
      "\n",
      "\\begin{document}\n",
      "\n",
      "\\maketitle\n",
      "\n",
      "In this example we embed parts of the examples from the\n",
      "\\texttt{kruskal.test} help page into a \\LaTeX{} document:\n",
      "\n",
      "<<>>=\n",
      "data(airquality)\n",
      "library(ctest)\n",
      "kruskal.test(Ozone ~ Month, data = airquality)\n",
      "@\n",
      "which shows that the location parameter of the Ozone \n",
      "distribution varies significantly from month to month. Finally we\n",
      "include a boxplot of the data:\n",
      "\n",
      "\\begin{center}\n",
      "<<fig=TRUE,echo=FALSE>>=\n",
      "boxplot(Ozone ~ Month, data = airquality)\n",
      "@\n",
      "\\end{center}\n",
      "\n",
      "\\end{document}\n",
      "```"
     ]
    },
    {
     "cell_type": "markdown",
     "metadata": {
      "slideshow": {
       "slide_type": "subslide"
      }
     },
     "source": [
      "## After"
     ]
    },
    {
     "cell_type": "markdown",
     "metadata": {
      "slideshow": {
       "slide_type": "fragment"
      }
     },
     "source": [
      "http://www.stat.uni-muenchen.de/~leisch/Sweave/example-1.pdf"
     ]
    },
    {
     "cell_type": "markdown",
     "metadata": {
      "slideshow": {
       "slide_type": "slide"
      }
     },
     "source": [
      "# Data\n",
      "\n",
      "What do we do with the data?"
     ]
    },
    {
     "cell_type": "markdown",
     "metadata": {
      "slideshow": {
       "slide_type": "fragment"
      }
     },
     "source": [
      "Depends on the data.\n",
      "\n",
      "- Genomicists have Genbank\n",
      "- Ecologists have [Dryad](http://datadryad.org/)\n",
      "\n",
      "But catch all solutions exist."
     ]
    },
    {
     "cell_type": "markdown",
     "metadata": {
      "slideshow": {
       "slide_type": "slide"
      }
     },
     "source": [
      "# Catch all repositories for data\n",
      "\n",
      "- Institutional repositories\n",
      "- Figshare and zenodo, get doi for data\n",
      "- Supplementary materials for Journals\n",
      "- Your website?"
     ]
    },
    {
     "cell_type": "markdown",
     "metadata": {
      "slideshow": {
       "slide_type": "slide"
      }
     },
     "source": [
      "# Figshare"
     ]
    },
    {
     "cell_type": "markdown",
     "metadata": {
      "slideshow": {
       "slide_type": "fragment"
      }
     },
     "source": [
      "http://figshare.com/articles/Bicycle_Rider_Control_Identification/659465"
     ]
    },
    {
     "cell_type": "markdown",
     "metadata": {
      "slideshow": {
       "slide_type": "slide"
      }
     },
     "source": [
      "# Data Papers\n",
      "\n",
      "Journals are starting to accept papers strictly about data.\n",
      "\n",
      "- F1000Research: 'Data Notes'\n",
      "- PLoS One: Database papers\n",
      "- Biodiversity data journal\n",
      "- Open health data\n",
      "- [more](http://mlibrarydata.wordpress.com/2014/05/09/data-journals/)"
     ]
    },
    {
     "cell_type": "markdown",
     "metadata": {
      "slideshow": {
       "slide_type": "slide"
      }
     },
     "source": [
      "# What can you do?\n",
      "\n",
      "- Try to make your work reproducible\n",
      "- Share your source!\n",
      "- Share your data!\n",
      "- Ask for reproducibiilty when reviewing journal articles\n",
      "- Ask Journals to support source code and data sharing practices\n",
      "- Encourage your students to create reproducible work"
     ]
    },
    {
     "cell_type": "code",
     "collapsed": false,
     "input": [
      "from IPython.html.widgets import interactive\n",
      "from IPython.display import display\n",
      "\n",
      "%matplotlib inline"
     ],
     "language": "python",
     "metadata": {
      "slideshow": {
       "slide_type": "skip"
      }
     },
     "outputs": []
    },
    {
     "cell_type": "code",
     "collapsed": false,
     "input": [
      "import matplotlib.pyplot as plt\n",
      "from numpy.linalg import eig\n",
      "from dtk import bicycle\n",
      "\n",
      "p = bicycle.benchmark_parameters()\n",
      "\n",
      "M, C1, K0, K2 = bicycle.benchmark_par_to_canonical(p)\n",
      "speeds, As, Bs = bicycle.benchmark_state_space_vs_speed(M, C1, K0, K2, v0=0.0, vf=10.0)\n",
      "eigenvals, eigenvectors = eig(As)\n",
      "fig, ax = plt.subplots()\n",
      "lines = plt.plot(speeds, eigenvals, 'k.')\n",
      "plt.ylim((-10.0, 10.0))\n",
      "plt.close(fig)\n",
      "\n",
      "def plot(v0=0.0, vf=10.0, **parameters):\n",
      "    M, C1, K0, K2 = bicycle.benchmark_par_to_canonical(parameters)\n",
      "    speeds, As, Bs = bicycle.benchmark_state_space_vs_speed(M, C1, K0, K2, v0=v0, vf=vf)\n",
      "    eigenvals, eigenvectors = eig(As)\n",
      "    for i, line in enumerate(lines):\n",
      "        line.set_xdata = speeds\n",
      "        line.set_ydata = eigenvals[i]\n",
      "    fig.canvas.draw()\n",
      "    display(fig)"
     ],
     "language": "python",
     "metadata": {
      "slideshow": {
       "slide_type": "skip"
      }
     },
     "outputs": []
    },
    {
     "cell_type": "code",
     "collapsed": false,
     "input": [
      "ranges = {k: (v - 0.5 * abs(v), v + 0.5 * abs(v), 0.1 * abs(v)) for k, v in p.items()}\n",
      "ranges.update({'v0': (-30.0, 30.0, 1.0), 'vf': (-30.0, 30.0, 1.0)})\n",
      "w = interactive(plot, **ranges)\n",
      "display(w)"
     ],
     "language": "python",
     "metadata": {
      "slideshow": {
       "slide_type": "skip"
      }
     },
     "outputs": []
    }
   ],
   "metadata": {}
  }
 ]
}